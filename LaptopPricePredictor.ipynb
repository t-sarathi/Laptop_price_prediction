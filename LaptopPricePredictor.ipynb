{
 "cells": [
  {
   "cell_type": "markdown",
   "id": "eedb8dd0-8a08-497e-95c0-a04477a6c160",
   "metadata": {},
   "source": [
    "#### Import all the necessary libraries"
   ]
  },
  {
   "cell_type": "code",
   "execution_count": 16,
   "id": "cba48f78-720f-41e3-8eaa-bea5c1e83d9d",
   "metadata": {
    "scrolled": true
   },
   "outputs": [],
   "source": [
    "import sklearn"
   ]
  },
  {
   "cell_type": "code",
   "execution_count": 17,
   "id": "b304b6a3-6224-46a2-894a-23025b406e7e",
   "metadata": {},
   "outputs": [],
   "source": [
    "import numpy as np\n",
    "import pandas as pd\n",
    "import seaborn as sns\n",
    "from scipy import stats\n",
    "from scipy.stats import skew\n",
    "import matplotlib.pyplot as plt"
   ]
  },
  {
   "cell_type": "code",
   "execution_count": 18,
   "id": "baa1b896-72a2-404c-a633-eb62307115f0",
   "metadata": {},
   "outputs": [],
   "source": [
    "#Import the dataset\n",
    "df=pd.read_csv('laptop_data.csv')"
   ]
  },
  {
   "cell_type": "code",
   "execution_count": 19,
   "id": "382ef80f-cb6c-4656-a047-819de3fbb159",
   "metadata": {},
   "outputs": [
    {
     "data": {
      "text/html": [
       "<div>\n",
       "<style scoped>\n",
       "    .dataframe tbody tr th:only-of-type {\n",
       "        vertical-align: middle;\n",
       "    }\n",
       "\n",
       "    .dataframe tbody tr th {\n",
       "        vertical-align: top;\n",
       "    }\n",
       "\n",
       "    .dataframe thead th {\n",
       "        text-align: right;\n",
       "    }\n",
       "</style>\n",
       "<table border=\"1\" class=\"dataframe\">\n",
       "  <thead>\n",
       "    <tr style=\"text-align: right;\">\n",
       "      <th></th>\n",
       "      <th>Unnamed: 0</th>\n",
       "      <th>Company</th>\n",
       "      <th>TypeName</th>\n",
       "      <th>Inches</th>\n",
       "      <th>ScreenResolution</th>\n",
       "      <th>Cpu</th>\n",
       "      <th>Ram</th>\n",
       "      <th>Memory</th>\n",
       "      <th>Gpu</th>\n",
       "      <th>OpSys</th>\n",
       "      <th>Weight</th>\n",
       "      <th>Price</th>\n",
       "    </tr>\n",
       "  </thead>\n",
       "  <tbody>\n",
       "    <tr>\n",
       "      <th>0</th>\n",
       "      <td>0</td>\n",
       "      <td>Apple</td>\n",
       "      <td>Ultrabook</td>\n",
       "      <td>13.3</td>\n",
       "      <td>IPS Panel Retina Display 2560x1600</td>\n",
       "      <td>Intel Core i5 2.3GHz</td>\n",
       "      <td>8GB</td>\n",
       "      <td>128GB SSD</td>\n",
       "      <td>Intel Iris Plus Graphics 640</td>\n",
       "      <td>macOS</td>\n",
       "      <td>1.37kg</td>\n",
       "      <td>71378.6832</td>\n",
       "    </tr>\n",
       "    <tr>\n",
       "      <th>1</th>\n",
       "      <td>1</td>\n",
       "      <td>Apple</td>\n",
       "      <td>Ultrabook</td>\n",
       "      <td>13.3</td>\n",
       "      <td>1440x900</td>\n",
       "      <td>Intel Core i5 1.8GHz</td>\n",
       "      <td>8GB</td>\n",
       "      <td>128GB Flash Storage</td>\n",
       "      <td>Intel HD Graphics 6000</td>\n",
       "      <td>macOS</td>\n",
       "      <td>1.34kg</td>\n",
       "      <td>47895.5232</td>\n",
       "    </tr>\n",
       "  </tbody>\n",
       "</table>\n",
       "</div>"
      ],
      "text/plain": [
       "   Unnamed: 0 Company   TypeName  Inches                    ScreenResolution  \\\n",
       "0           0   Apple  Ultrabook    13.3  IPS Panel Retina Display 2560x1600   \n",
       "1           1   Apple  Ultrabook    13.3                            1440x900   \n",
       "\n",
       "                    Cpu  Ram               Memory  \\\n",
       "0  Intel Core i5 2.3GHz  8GB            128GB SSD   \n",
       "1  Intel Core i5 1.8GHz  8GB  128GB Flash Storage   \n",
       "\n",
       "                            Gpu  OpSys  Weight       Price  \n",
       "0  Intel Iris Plus Graphics 640  macOS  1.37kg  71378.6832  \n",
       "1        Intel HD Graphics 6000  macOS  1.34kg  47895.5232  "
      ]
     },
     "execution_count": 19,
     "metadata": {},
     "output_type": "execute_result"
    }
   ],
   "source": [
    "df.head(2)"
   ]
  },
  {
   "cell_type": "code",
   "execution_count": 20,
   "id": "e06d4489-9504-437d-9d7a-0e3151f1defc",
   "metadata": {},
   "outputs": [],
   "source": [
    "#drop the unnecessary column\n",
    "df=df.drop(['Unnamed: 0'],axis=1)"
   ]
  },
  {
   "cell_type": "code",
   "execution_count": 21,
   "id": "78ad336f-c573-4cd6-b063-93818a46259e",
   "metadata": {},
   "outputs": [
    {
     "name": "stdout",
     "output_type": "stream",
     "text": [
      "<class 'pandas.core.frame.DataFrame'>\n",
      "RangeIndex: 1303 entries, 0 to 1302\n",
      "Data columns (total 11 columns):\n",
      " #   Column            Non-Null Count  Dtype  \n",
      "---  ------            --------------  -----  \n",
      " 0   Company           1303 non-null   object \n",
      " 1   TypeName          1303 non-null   object \n",
      " 2   Inches            1303 non-null   float64\n",
      " 3   ScreenResolution  1303 non-null   object \n",
      " 4   Cpu               1303 non-null   object \n",
      " 5   Ram               1303 non-null   object \n",
      " 6   Memory            1303 non-null   object \n",
      " 7   Gpu               1303 non-null   object \n",
      " 8   OpSys             1303 non-null   object \n",
      " 9   Weight            1303 non-null   object \n",
      " 10  Price             1303 non-null   float64\n",
      "dtypes: float64(2), object(9)\n",
      "memory usage: 112.1+ KB\n"
     ]
    }
   ],
   "source": [
    "df.info()"
   ]
  },
  {
   "cell_type": "code",
   "execution_count": 22,
   "id": "4b7e4792-a73f-4638-8948-54879c6b0c94",
   "metadata": {},
   "outputs": [
    {
     "data": {
      "text/plain": [
       "Company             0\n",
       "TypeName            0\n",
       "Inches              0\n",
       "ScreenResolution    0\n",
       "Cpu                 0\n",
       "Ram                 0\n",
       "Memory              0\n",
       "Gpu                 0\n",
       "OpSys               0\n",
       "Weight              0\n",
       "Price               0\n",
       "dtype: int64"
      ]
     },
     "execution_count": 22,
     "metadata": {},
     "output_type": "execute_result"
    }
   ],
   "source": [
    "#Checking the null values\n",
    "df.isnull().sum()"
   ]
  },
  {
   "cell_type": "code",
   "execution_count": 23,
   "id": "a2aa67bd-ee53-435f-81a3-7f165f734d7a",
   "metadata": {},
   "outputs": [
    {
     "data": {
      "text/plain": [
       "29"
      ]
     },
     "execution_count": 23,
     "metadata": {},
     "output_type": "execute_result"
    }
   ],
   "source": [
    "#checking the duplicates rows:\n",
    "df.duplicated().sum()"
   ]
  },
  {
   "cell_type": "code",
   "execution_count": 24,
   "id": "daf942dc-603b-4adf-a4b0-92435295eeb4",
   "metadata": {},
   "outputs": [],
   "source": [
    "#Drop the duplicate values:\n",
    "df=df.drop_duplicates()"
   ]
  },
  {
   "cell_type": "markdown",
   "id": "76666423-3d33-4dde-9697-a3ada28210ff",
   "metadata": {},
   "source": [
    "#### Rename some features:"
   ]
  },
  {
   "cell_type": "code",
   "execution_count": 25,
   "id": "9758a420-e5c1-4d2d-9394-cd953b2a577c",
   "metadata": {},
   "outputs": [],
   "source": [
    "df=df.rename(columns={'Ram':'Ram_in_GB','Weight':'Weight_in_kg'})"
   ]
  },
  {
   "cell_type": "code",
   "execution_count": 26,
   "id": "f9b1b497-9a5b-40a8-a905-33439ec7b943",
   "metadata": {},
   "outputs": [
    {
     "data": {
      "text/html": [
       "<div>\n",
       "<style scoped>\n",
       "    .dataframe tbody tr th:only-of-type {\n",
       "        vertical-align: middle;\n",
       "    }\n",
       "\n",
       "    .dataframe tbody tr th {\n",
       "        vertical-align: top;\n",
       "    }\n",
       "\n",
       "    .dataframe thead th {\n",
       "        text-align: right;\n",
       "    }\n",
       "</style>\n",
       "<table border=\"1\" class=\"dataframe\">\n",
       "  <thead>\n",
       "    <tr style=\"text-align: right;\">\n",
       "      <th></th>\n",
       "      <th>Company</th>\n",
       "      <th>TypeName</th>\n",
       "      <th>Inches</th>\n",
       "      <th>ScreenResolution</th>\n",
       "      <th>Cpu</th>\n",
       "      <th>Ram_in_GB</th>\n",
       "      <th>Memory</th>\n",
       "      <th>Gpu</th>\n",
       "      <th>OpSys</th>\n",
       "      <th>Weight_in_kg</th>\n",
       "      <th>Price</th>\n",
       "    </tr>\n",
       "  </thead>\n",
       "  <tbody>\n",
       "    <tr>\n",
       "      <th>0</th>\n",
       "      <td>Apple</td>\n",
       "      <td>Ultrabook</td>\n",
       "      <td>13.3</td>\n",
       "      <td>IPS Panel Retina Display 2560x1600</td>\n",
       "      <td>Intel Core i5 2.3GHz</td>\n",
       "      <td>8GB</td>\n",
       "      <td>128GB SSD</td>\n",
       "      <td>Intel Iris Plus Graphics 640</td>\n",
       "      <td>macOS</td>\n",
       "      <td>1.37kg</td>\n",
       "      <td>71378.6832</td>\n",
       "    </tr>\n",
       "    <tr>\n",
       "      <th>1</th>\n",
       "      <td>Apple</td>\n",
       "      <td>Ultrabook</td>\n",
       "      <td>13.3</td>\n",
       "      <td>1440x900</td>\n",
       "      <td>Intel Core i5 1.8GHz</td>\n",
       "      <td>8GB</td>\n",
       "      <td>128GB Flash Storage</td>\n",
       "      <td>Intel HD Graphics 6000</td>\n",
       "      <td>macOS</td>\n",
       "      <td>1.34kg</td>\n",
       "      <td>47895.5232</td>\n",
       "    </tr>\n",
       "  </tbody>\n",
       "</table>\n",
       "</div>"
      ],
      "text/plain": [
       "  Company   TypeName  Inches                    ScreenResolution  \\\n",
       "0   Apple  Ultrabook    13.3  IPS Panel Retina Display 2560x1600   \n",
       "1   Apple  Ultrabook    13.3                            1440x900   \n",
       "\n",
       "                    Cpu Ram_in_GB               Memory  \\\n",
       "0  Intel Core i5 2.3GHz       8GB            128GB SSD   \n",
       "1  Intel Core i5 1.8GHz       8GB  128GB Flash Storage   \n",
       "\n",
       "                            Gpu  OpSys Weight_in_kg       Price  \n",
       "0  Intel Iris Plus Graphics 640  macOS       1.37kg  71378.6832  \n",
       "1        Intel HD Graphics 6000  macOS       1.34kg  47895.5232  "
      ]
     },
     "execution_count": 26,
     "metadata": {},
     "output_type": "execute_result"
    }
   ],
   "source": [
    "df.head(2)"
   ]
  },
  {
   "cell_type": "markdown",
   "id": "cac5d3da-3d61-4622-a8da-0cd0d46c5c48",
   "metadata": {},
   "source": [
    "#### Adjust the values of the following features:"
   ]
  },
  {
   "cell_type": "code",
   "execution_count": 27,
   "id": "d8d10622-e8ed-4d85-abec-1301e83d4afb",
   "metadata": {
    "scrolled": true
   },
   "outputs": [],
   "source": [
    "df['Ram_in_GB']=df['Ram_in_GB'].str.replace('GB','')"
   ]
  },
  {
   "cell_type": "code",
   "execution_count": 28,
   "id": "480a9696-7961-434e-a476-22f27d4c3146",
   "metadata": {},
   "outputs": [],
   "source": [
    "df['Weight_in_kg']=df['Weight_in_kg'].str.replace('kg','')"
   ]
  },
  {
   "cell_type": "code",
   "execution_count": 29,
   "id": "950f9806-e644-460f-9aa3-127a0bf0b526",
   "metadata": {},
   "outputs": [],
   "source": [
    "# Chnege the datatype of follwing columns:\n",
    "df['Ram_in_GB']=df['Ram_in_GB'].astype('int32')\n",
    "df['Weight_in_kg']=df['Weight_in_kg'].astype('float32')"
   ]
  },
  {
   "cell_type": "code",
   "execution_count": 30,
   "id": "b6bf5ead-7e51-4eb7-a257-9e032be113b7",
   "metadata": {},
   "outputs": [],
   "source": [
    "df['Price']=df['Price'].astype('int32')"
   ]
  },
  {
   "cell_type": "code",
   "execution_count": 31,
   "id": "fdcda34d-620b-4885-a1a7-f0affea69bad",
   "metadata": {
    "scrolled": true
   },
   "outputs": [
    {
     "name": "stdout",
     "output_type": "stream",
     "text": [
      "<class 'pandas.core.frame.DataFrame'>\n",
      "Index: 1274 entries, 0 to 1273\n",
      "Data columns (total 11 columns):\n",
      " #   Column            Non-Null Count  Dtype  \n",
      "---  ------            --------------  -----  \n",
      " 0   Company           1274 non-null   object \n",
      " 1   TypeName          1274 non-null   object \n",
      " 2   Inches            1274 non-null   float64\n",
      " 3   ScreenResolution  1274 non-null   object \n",
      " 4   Cpu               1274 non-null   object \n",
      " 5   Ram_in_GB         1274 non-null   int32  \n",
      " 6   Memory            1274 non-null   object \n",
      " 7   Gpu               1274 non-null   object \n",
      " 8   OpSys             1274 non-null   object \n",
      " 9   Weight_in_kg      1274 non-null   float32\n",
      " 10  Price             1274 non-null   int32  \n",
      "dtypes: float32(1), float64(1), int32(2), object(7)\n",
      "memory usage: 104.5+ KB\n"
     ]
    }
   ],
   "source": [
    "df.info()"
   ]
  },
  {
   "cell_type": "code",
   "execution_count": 32,
   "id": "dc3463f0-422b-45a9-9a34-87006d8ba730",
   "metadata": {},
   "outputs": [
    {
     "data": {
      "text/html": [
       "<div>\n",
       "<style scoped>\n",
       "    .dataframe tbody tr th:only-of-type {\n",
       "        vertical-align: middle;\n",
       "    }\n",
       "\n",
       "    .dataframe tbody tr th {\n",
       "        vertical-align: top;\n",
       "    }\n",
       "\n",
       "    .dataframe thead th {\n",
       "        text-align: right;\n",
       "    }\n",
       "</style>\n",
       "<table border=\"1\" class=\"dataframe\">\n",
       "  <thead>\n",
       "    <tr style=\"text-align: right;\">\n",
       "      <th></th>\n",
       "      <th>Company</th>\n",
       "      <th>TypeName</th>\n",
       "      <th>Inches</th>\n",
       "      <th>ScreenResolution</th>\n",
       "      <th>Cpu</th>\n",
       "      <th>Ram_in_GB</th>\n",
       "      <th>Memory</th>\n",
       "      <th>Gpu</th>\n",
       "      <th>OpSys</th>\n",
       "      <th>Weight_in_kg</th>\n",
       "      <th>Price</th>\n",
       "    </tr>\n",
       "  </thead>\n",
       "  <tbody>\n",
       "    <tr>\n",
       "      <th>1060</th>\n",
       "      <td>HP</td>\n",
       "      <td>Notebook</td>\n",
       "      <td>15.6</td>\n",
       "      <td>Full HD 1920x1080</td>\n",
       "      <td>Intel Core i7 7500U 2.7GHz</td>\n",
       "      <td>8</td>\n",
       "      <td>256GB SSD</td>\n",
       "      <td>Intel HD Graphics 620</td>\n",
       "      <td>Windows 10</td>\n",
       "      <td>2.04</td>\n",
       "      <td>57009</td>\n",
       "    </tr>\n",
       "    <tr>\n",
       "      <th>1173</th>\n",
       "      <td>Lenovo</td>\n",
       "      <td>Notebook</td>\n",
       "      <td>15.6</td>\n",
       "      <td>1366x768</td>\n",
       "      <td>Intel Core i5 6200U 2.3GHz</td>\n",
       "      <td>4</td>\n",
       "      <td>500GB HDD</td>\n",
       "      <td>Intel HD Graphics 520</td>\n",
       "      <td>No OS</td>\n",
       "      <td>2.10</td>\n",
       "      <td>21205</td>\n",
       "    </tr>\n",
       "    <tr>\n",
       "      <th>873</th>\n",
       "      <td>Lenovo</td>\n",
       "      <td>Notebook</td>\n",
       "      <td>13.3</td>\n",
       "      <td>IPS Panel Full HD 1920x1080</td>\n",
       "      <td>Intel Core i3 7100U 2.4GHz</td>\n",
       "      <td>4</td>\n",
       "      <td>180GB SSD</td>\n",
       "      <td>Intel HD Graphics 620</td>\n",
       "      <td>Windows 10</td>\n",
       "      <td>1.44</td>\n",
       "      <td>39160</td>\n",
       "    </tr>\n",
       "  </tbody>\n",
       "</table>\n",
       "</div>"
      ],
      "text/plain": [
       "     Company  TypeName  Inches             ScreenResolution  \\\n",
       "1060      HP  Notebook    15.6            Full HD 1920x1080   \n",
       "1173  Lenovo  Notebook    15.6                     1366x768   \n",
       "873   Lenovo  Notebook    13.3  IPS Panel Full HD 1920x1080   \n",
       "\n",
       "                             Cpu  Ram_in_GB     Memory                    Gpu  \\\n",
       "1060  Intel Core i7 7500U 2.7GHz          8  256GB SSD  Intel HD Graphics 620   \n",
       "1173  Intel Core i5 6200U 2.3GHz          4  500GB HDD  Intel HD Graphics 520   \n",
       "873   Intel Core i3 7100U 2.4GHz          4  180GB SSD  Intel HD Graphics 620   \n",
       "\n",
       "           OpSys  Weight_in_kg  Price  \n",
       "1060  Windows 10          2.04  57009  \n",
       "1173       No OS          2.10  21205  \n",
       "873   Windows 10          1.44  39160  "
      ]
     },
     "execution_count": 32,
     "metadata": {},
     "output_type": "execute_result"
    }
   ],
   "source": [
    "df.sample(3)"
   ]
  },
  {
   "cell_type": "markdown",
   "id": "ee1a80f9-084e-4f08-bb96-749970cea614",
   "metadata": {},
   "source": [
    "# perfrom univarite analysis:"
   ]
  },
  {
   "cell_type": "code",
   "execution_count": 33,
   "id": "128f95be-acbf-4441-932b-c41236c71569",
   "metadata": {},
   "outputs": [
    {
     "name": "stderr",
     "output_type": "stream",
     "text": [
      "C:\\Users\\Tirtha Ghosh\\AppData\\Local\\Temp\\ipykernel_17968\\1218948883.py:2: UserWarning: \n",
      "\n",
      "`distplot` is a deprecated function and will be removed in seaborn v0.14.0.\n",
      "\n",
      "Please adapt your code to use either `displot` (a figure-level function with\n",
      "similar flexibility) or `histplot` (an axes-level function for histograms).\n",
      "\n",
      "For a guide to updating your code to use the new functions, please see\n",
      "https://gist.github.com/mwaskom/de44147ed2974457ad6372750bbe5751\n",
      "\n",
      "  sns.distplot(df['Price'])\n",
      "C:\\Users\\Tirtha Ghosh\\anaconda3\\Lib\\site-packages\\seaborn\\_oldcore.py:1119: FutureWarning: use_inf_as_na option is deprecated and will be removed in a future version. Convert inf values to NaN before operating instead.\n",
      "  with pd.option_context('mode.use_inf_as_na', True):\n"
     ]
    },
    {
     "data": {
      "text/plain": [
       "<Axes: xlabel='Price', ylabel='Density'>"
      ]
     },
     "execution_count": 33,
     "metadata": {},
     "output_type": "execute_result"
    },
    {
     "data": {
      "image/png": "[encoded data removed]",
      "text/plain": [
       "<Figure size 640x480 with 1 Axes>"
      ]
     },
     "metadata": {},
     "output_type": "display_data"
    }
   ],
   "source": [
    "# Lets see the distribution of price features:\n",
    "sns.distplot(df['Price'])"
   ]
  },
  {
   "cell_type": "markdown",
   "id": "edee9129-d491-494d-9e5d-d44de07c2c42",
   "metadata": {},
   "source": [
    "This shows that the price column is right-skewed. It's very common for cheaper products to be more available than expensive ones."
   ]
  },
  {
   "cell_type": "code",
   "execution_count": 34,
   "id": "6ddae311-b3fc-43a0-a23f-d88e85f284df",
   "metadata": {},
   "outputs": [
    {
     "data": {
      "text/plain": [
       "<Axes: xlabel='Company'>"
      ]
     },
     "execution_count": 34,
     "metadata": {},
     "output_type": "execute_result"
    },
    {
     "data": {
      "image/png": "[encoded data removed]",
      "text/plain": [
       "<Figure size 640x480 with 1 Axes>"
      ]
     },
     "metadata": {},
     "output_type": "display_data"
    }
   ],
   "source": [
    "# Lets focus on no of company feature:\n",
    "df['Company'].value_counts().plot(kind='bar')"
   ]
  },
  {
   "cell_type": "code",
   "execution_count": 35,
   "id": "3d8e613c-2b37-4af3-b403-a3616ff13379",
   "metadata": {},
   "outputs": [
    {
     "data": {
      "image/png": "[encoded data removed]",
      "text/plain": [
       "<Figure size 640x480 with 1 Axes>"
      ]
     },
     "metadata": {},
     "output_type": "display_data"
    }
   ],
   "source": [
    "# Now lets see what is the avg price of each company's laptop\n",
    "sns.barplot(df,x='Company',y='Price')\n",
    "plt.xticks(rotation='vertical')\n",
    "plt.show()"
   ]
  },
  {
   "cell_type": "markdown",
   "id": "67fd8919-aa42-47e6-b2fb-4202e9275cac",
   "metadata": {},
   "source": [
    "This visualization helps us understand that avg prices vary from company to company.\n",
    "\n",
    "\n",
    "\n",
    "\n",
    "\n",
    "\n"
   ]
  },
  {
   "cell_type": "code",
   "execution_count": 36,
   "id": "d4a6540d-a97d-4039-b3b3-4171a091f7de",
   "metadata": {},
   "outputs": [
    {
     "data": {
      "text/plain": [
       "<Axes: xlabel='TypeName'>"
      ]
     },
     "execution_count": 36,
     "metadata": {},
     "output_type": "execute_result"
    },
    {
     "data": {
      "image/png": "[encoded data removed]",
      "text/plain": [
       "<Figure size 640x480 with 1 Axes>"
      ]
     },
     "metadata": {},
     "output_type": "display_data"
    }
   ],
   "source": [
    "# Now focus on how many types of laptops are there in market:\n",
    "df['TypeName'].value_counts().plot(kind='bar')"
   ]
  },
  {
   "cell_type": "markdown",
   "id": "29f956f7-49b6-4bff-8ed7-9ca6c2d8f8ff",
   "metadata": {},
   "source": [
    "This reflect that there six type of laptops are available in the market and Notebook type of laptops have the highet market."
   ]
  },
  {
   "cell_type": "code",
   "execution_count": 37,
   "id": "3e033843-e7fa-4645-a782-5d2cbb703f17",
   "metadata": {},
   "outputs": [
    {
     "data": {
      "image/png": "[encoded data removed]",
      "text/plain": [
       "<Figure size 640x480 with 1 Axes>"
      ]
     },
     "metadata": {},
     "output_type": "display_data"
    }
   ],
   "source": [
    "# Lets try to see what are the avg proce of each types of laptop:\n",
    "sns.barplot(df,x='TypeName',y='Price')\n",
    "plt.xticks(rotation='vertical')\n",
    "plt.show()"
   ]
  },
  {
   "cell_type": "markdown",
   "id": "de31acdd-072c-4d39-b05a-96ebcf64cd78",
   "metadata": {},
   "source": [
    "Now we understand why Notebook has the higest market , becuse of its budget friendly price."
   ]
  },
  {
   "cell_type": "code",
   "execution_count": 38,
   "id": "992d935e-5d86-4c81-b931-85b4bbc895dd",
   "metadata": {},
   "outputs": [
    {
     "data": {
      "text/plain": [
       "<Axes: xlabel='Inches'>"
      ]
     },
     "execution_count": 38,
     "metadata": {},
     "output_type": "execute_result"
    },
    {
     "data": {
      "image/png": "[encoded data removed]",
      "text/plain": [
       "<Figure size 640x480 with 1 Axes>"
      ]
     },
     "metadata": {},
     "output_type": "display_data"
    }
   ],
   "source": [
    "# Now look at the laptop screensize column(i.e inches column):\n",
    "df['Inches'].value_counts().plot(kind='bar')"
   ]
  },
  {
   "cell_type": "markdown",
   "id": "d31995b5-2aa9-45ed-898e-af9f0175dfda",
   "metadata": {},
   "source": [
    "And it clearly shows that 15.6-inch laptops are the most common. "
   ]
  },
  {
   "cell_type": "code",
   "execution_count": 39,
   "id": "ca24bcee-b3f6-41b1-86f5-96f23c3f99bc",
   "metadata": {},
   "outputs": [],
   "source": [
    "# Feature engineering on  ScreenResolution column:"
   ]
  },
  {
   "cell_type": "code",
   "execution_count": 40,
   "id": "5129a65b-6772-4f31-8366-907e6f95a16c",
   "metadata": {},
   "outputs": [
    {
     "data": {
      "text/plain": [
       "ScreenResolution\n",
       "Full HD 1920x1080                                505\n",
       "1366x768                                         262\n",
       "IPS Panel Full HD 1920x1080                      226\n",
       "IPS Panel Full HD / Touchscreen 1920x1080         51\n",
       "Full HD / Touchscreen 1920x1080                   47\n",
       "1600x900                                          23\n",
       "Touchscreen 1366x768                              16\n",
       "Quad HD+ / Touchscreen 3200x1800                  15\n",
       "IPS Panel 4K Ultra HD 3840x2160                   12\n",
       "IPS Panel 4K Ultra HD / Touchscreen 3840x2160     11\n",
       "4K Ultra HD / Touchscreen 3840x2160               10\n",
       "4K Ultra HD 3840x2160                              7\n",
       "Touchscreen 2560x1440                              7\n",
       "IPS Panel 1366x768                                 7\n",
       "IPS Panel Retina Display 2560x1600                 6\n",
       "IPS Panel Retina Display 2304x1440                 6\n",
       "Touchscreen 2256x1504                              6\n",
       "IPS Panel Touchscreen 2560x1440                    5\n",
       "IPS Panel Quad HD+ / Touchscreen 3200x1800         4\n",
       "IPS Panel Touchscreen 1920x1200                    4\n",
       "1440x900                                           4\n",
       "IPS Panel Retina Display 2880x1800                 4\n",
       "IPS Panel 2560x1440                                4\n",
       "2560x1440                                          3\n",
       "Quad HD+ 3200x1800                                 3\n",
       "1920x1080                                          3\n",
       "Touchscreen 2400x1600                              3\n",
       "IPS Panel Quad HD+ 2560x1440                       3\n",
       "IPS Panel Touchscreen 1366x768                     3\n",
       "IPS Panel Touchscreen / 4K Ultra HD 3840x2160      2\n",
       "IPS Panel Full HD 2160x1440                        2\n",
       "IPS Panel Quad HD+ 3200x1800                       2\n",
       "IPS Panel Retina Display 2736x1824                 1\n",
       "IPS Panel Full HD 1920x1200                        1\n",
       "IPS Panel Full HD 2560x1440                        1\n",
       "IPS Panel Full HD 1366x768                         1\n",
       "Touchscreen / Full HD 1920x1080                    1\n",
       "Touchscreen / Quad HD+ 3200x1800                   1\n",
       "Touchscreen / 4K Ultra HD 3840x2160                1\n",
       "IPS Panel Touchscreen 2400x1600                    1\n",
       "Name: count, dtype: int64"
      ]
     },
     "execution_count": 40,
     "metadata": {},
     "output_type": "execute_result"
    }
   ],
   "source": [
    "df['ScreenResolution'].value_counts()"
   ]
  },
  {
   "cell_type": "markdown",
   "id": "6625d7ff-50d5-4790-9327-fe602cae3bd3",
   "metadata": {},
   "source": [
    "From the 'ScreenResolution' column, we can extract the following features: 'Touchscreen', 'IPS Panel', 'Resolution', 'Full HD', '4K Display', etc. We will then analyze whether these features significantly affect laptop prices. If there is a significant difference in prices based on the presence or absence of these features, we will retain them for further analysis."
   ]
  },
  {
   "cell_type": "code",
   "execution_count": 41,
   "id": "5d146336-e607-4473-aabf-967648552d2d",
   "metadata": {},
   "outputs": [],
   "source": [
    "list=[]\n",
    "for i in  df['ScreenResolution']:\n",
    "    list.append(i.split(' ')[-1])"
   ]
  },
  {
   "cell_type": "code",
   "execution_count": 42,
   "id": "cdd54bd8-7984-4e17-abaa-02e9a541737b",
   "metadata": {},
   "outputs": [],
   "source": [
    "df['Resolution']=list"
   ]
  },
  {
   "cell_type": "code",
   "execution_count": 43,
   "id": "b793efc7-4229-41ea-903b-ba98da277a97",
   "metadata": {},
   "outputs": [
    {
     "data": {
      "text/html": [
       "<div>\n",
       "<style scoped>\n",
       "    .dataframe tbody tr th:only-of-type {\n",
       "        vertical-align: middle;\n",
       "    }\n",
       "\n",
       "    .dataframe tbody tr th {\n",
       "        vertical-align: top;\n",
       "    }\n",
       "\n",
       "    .dataframe thead th {\n",
       "        text-align: right;\n",
       "    }\n",
       "</style>\n",
       "<table border=\"1\" class=\"dataframe\">\n",
       "  <thead>\n",
       "    <tr style=\"text-align: right;\">\n",
       "      <th></th>\n",
       "      <th>Company</th>\n",
       "      <th>TypeName</th>\n",
       "      <th>Inches</th>\n",
       "      <th>ScreenResolution</th>\n",
       "      <th>Cpu</th>\n",
       "      <th>Ram_in_GB</th>\n",
       "      <th>Memory</th>\n",
       "      <th>Gpu</th>\n",
       "      <th>OpSys</th>\n",
       "      <th>Weight_in_kg</th>\n",
       "      <th>Price</th>\n",
       "      <th>Resolution</th>\n",
       "    </tr>\n",
       "  </thead>\n",
       "  <tbody>\n",
       "    <tr>\n",
       "      <th>170</th>\n",
       "      <td>Huawei</td>\n",
       "      <td>Ultrabook</td>\n",
       "      <td>13.0</td>\n",
       "      <td>IPS Panel Full HD 2160x1440</td>\n",
       "      <td>Intel Core i5 7200U 2.5GHz</td>\n",
       "      <td>8</td>\n",
       "      <td>256GB SSD</td>\n",
       "      <td>Intel HD Graphics 620</td>\n",
       "      <td>Windows 10</td>\n",
       "      <td>1.05</td>\n",
       "      <td>71874</td>\n",
       "      <td>2160x1440</td>\n",
       "    </tr>\n",
       "    <tr>\n",
       "      <th>829</th>\n",
       "      <td>Acer</td>\n",
       "      <td>Notebook</td>\n",
       "      <td>14.0</td>\n",
       "      <td>IPS Panel Full HD 1920x1080</td>\n",
       "      <td>Intel Core i3 7100U 2.4GHz</td>\n",
       "      <td>8</td>\n",
       "      <td>128GB SSD</td>\n",
       "      <td>Intel HD Graphics 620</td>\n",
       "      <td>Windows 10</td>\n",
       "      <td>1.50</td>\n",
       "      <td>32980</td>\n",
       "      <td>1920x1080</td>\n",
       "    </tr>\n",
       "  </tbody>\n",
       "</table>\n",
       "</div>"
      ],
      "text/plain": [
       "    Company   TypeName  Inches             ScreenResolution  \\\n",
       "170  Huawei  Ultrabook    13.0  IPS Panel Full HD 2160x1440   \n",
       "829    Acer   Notebook    14.0  IPS Panel Full HD 1920x1080   \n",
       "\n",
       "                            Cpu  Ram_in_GB     Memory                    Gpu  \\\n",
       "170  Intel Core i5 7200U 2.5GHz          8  256GB SSD  Intel HD Graphics 620   \n",
       "829  Intel Core i3 7100U 2.4GHz          8  128GB SSD  Intel HD Graphics 620   \n",
       "\n",
       "          OpSys  Weight_in_kg  Price Resolution  \n",
       "170  Windows 10          1.05  71874  2160x1440  \n",
       "829  Windows 10          1.50  32980  1920x1080  "
      ]
     },
     "execution_count": 43,
     "metadata": {},
     "output_type": "execute_result"
    }
   ],
   "source": [
    "df.sample(2)"
   ]
  },
  {
   "cell_type": "code",
   "execution_count": 44,
   "id": "727024e5-cd8d-4a05-8693-fe2205a5c7b6",
   "metadata": {},
   "outputs": [
    {
     "data": {
      "text/plain": [
       "<Axes: xlabel='Resolution'>"
      ]
     },
     "execution_count": 44,
     "metadata": {},
     "output_type": "execute_result"
    },
    {
     "data": {
      "image/png": "[encoded data removed]",
      "text/plain": [
       "<Figure size 640x480 with 1 Axes>"
      ]
     },
     "metadata": {},
     "output_type": "display_data"
    }
   ],
   "source": [
    "# Hw many different types of screen resolution are available:\n",
    "df['Resolution'].value_counts().plot(kind='bar')"
   ]
  },
  {
   "cell_type": "code",
   "execution_count": 45,
   "id": "23493bef-843a-4272-8bd8-6a5e28165de0",
   "metadata": {},
   "outputs": [
    {
     "data": {
      "image/png": "[encoded data removed]",
      "text/plain": [
       "<Figure size 640x480 with 1 Axes>"
      ]
     },
     "metadata": {},
     "output_type": "display_data"
    }
   ],
   "source": [
    "sns.barplot(y=df['Price'],x=df['Resolution'])\n",
    "plt.xticks(rotation='vertical')\n",
    "plt.show()"
   ]
  },
  {
   "cell_type": "code",
   "execution_count": 46,
   "id": "c5069ebe-f751-4059-95db-dddeb96a5421",
   "metadata": {},
   "outputs": [],
   "source": [
    "# Lets focus on the touch screen feature:"
   ]
  },
  {
   "cell_type": "code",
   "execution_count": 47,
   "id": "3f60b96f-76df-4a33-8d2b-9e02abfeca95",
   "metadata": {},
   "outputs": [],
   "source": [
    "df['Touch_screen']=df['ScreenResolution'].apply(lambda x:1 if 'Touchscreen' in x else 0)"
   ]
  },
  {
   "cell_type": "code",
   "execution_count": 48,
   "id": "3de935b4-f566-4316-9f44-d3910e166890",
   "metadata": {},
   "outputs": [
    {
     "data": {
      "text/html": [
       "<div>\n",
       "<style scoped>\n",
       "    .dataframe tbody tr th:only-of-type {\n",
       "        vertical-align: middle;\n",
       "    }\n",
       "\n",
       "    .dataframe tbody tr th {\n",
       "        vertical-align: top;\n",
       "    }\n",
       "\n",
       "    .dataframe thead th {\n",
       "        text-align: right;\n",
       "    }\n",
       "</style>\n",
       "<table border=\"1\" class=\"dataframe\">\n",
       "  <thead>\n",
       "    <tr style=\"text-align: right;\">\n",
       "      <th></th>\n",
       "      <th>Company</th>\n",
       "      <th>TypeName</th>\n",
       "      <th>Inches</th>\n",
       "      <th>ScreenResolution</th>\n",
       "      <th>Cpu</th>\n",
       "      <th>Ram_in_GB</th>\n",
       "      <th>Memory</th>\n",
       "      <th>Gpu</th>\n",
       "      <th>OpSys</th>\n",
       "      <th>Weight_in_kg</th>\n",
       "      <th>Price</th>\n",
       "      <th>Resolution</th>\n",
       "      <th>Touch_screen</th>\n",
       "    </tr>\n",
       "  </thead>\n",
       "  <tbody>\n",
       "    <tr>\n",
       "      <th>394</th>\n",
       "      <td>Dell</td>\n",
       "      <td>Notebook</td>\n",
       "      <td>15.6</td>\n",
       "      <td>Full HD 1920x1080</td>\n",
       "      <td>Intel Core i7 7500U 2.7GHz</td>\n",
       "      <td>8</td>\n",
       "      <td>256GB SSD</td>\n",
       "      <td>AMD Radeon R7 M445</td>\n",
       "      <td>Linux</td>\n",
       "      <td>2.33</td>\n",
       "      <td>41498</td>\n",
       "      <td>1920x1080</td>\n",
       "      <td>0</td>\n",
       "    </tr>\n",
       "    <tr>\n",
       "      <th>942</th>\n",
       "      <td>Acer</td>\n",
       "      <td>Notebook</td>\n",
       "      <td>15.6</td>\n",
       "      <td>1366x768</td>\n",
       "      <td>Intel Core i5 7200U 2.5GHz</td>\n",
       "      <td>4</td>\n",
       "      <td>500GB HDD</td>\n",
       "      <td>Intel HD Graphics 620</td>\n",
       "      <td>Windows 10</td>\n",
       "      <td>2.23</td>\n",
       "      <td>32980</td>\n",
       "      <td>1366x768</td>\n",
       "      <td>0</td>\n",
       "    </tr>\n",
       "  </tbody>\n",
       "</table>\n",
       "</div>"
      ],
      "text/plain": [
       "    Company  TypeName  Inches   ScreenResolution                         Cpu  \\\n",
       "394    Dell  Notebook    15.6  Full HD 1920x1080  Intel Core i7 7500U 2.7GHz   \n",
       "942    Acer  Notebook    15.6           1366x768  Intel Core i5 7200U 2.5GHz   \n",
       "\n",
       "     Ram_in_GB     Memory                    Gpu       OpSys  Weight_in_kg  \\\n",
       "394          8  256GB SSD     AMD Radeon R7 M445       Linux          2.33   \n",
       "942          4  500GB HDD  Intel HD Graphics 620  Windows 10          2.23   \n",
       "\n",
       "     Price Resolution  Touch_screen  \n",
       "394  41498  1920x1080             0  \n",
       "942  32980   1366x768             0  "
      ]
     },
     "execution_count": 48,
     "metadata": {},
     "output_type": "execute_result"
    }
   ],
   "source": [
    "df.sample(2)"
   ]
  },
  {
   "cell_type": "code",
   "execution_count": 49,
   "id": "eb88d774-b313-4303-92d1-3cf517b53e3b",
   "metadata": {},
   "outputs": [
    {
     "data": {
      "text/plain": [
       "<Axes: xlabel='Touch_screen'>"
      ]
     },
     "execution_count": 49,
     "metadata": {},
     "output_type": "execute_result"
    },
    {
     "data": {
      "image/png": "[encoded data removed]",
      "text/plain": [
       "<Figure size 640x480 with 1 Axes>"
      ]
     },
     "metadata": {},
     "output_type": "display_data"
    }
   ],
   "source": [
    "df['Touch_screen'].value_counts().plot(kind='bar')"
   ]
  },
  {
   "cell_type": "code",
   "execution_count": 50,
   "id": "5eb1f308-9535-46d4-8239-400d4a74beb7",
   "metadata": {},
   "outputs": [
    {
     "data": {
      "text/plain": [
       "<Axes: xlabel='Touch_screen', ylabel='Price'>"
      ]
     },
     "execution_count": 50,
     "metadata": {},
     "output_type": "execute_result"
    },
    {
     "data": {
      "image/png": "[encoded data removed]",
      "text/plain": [
       "<Figure size 640x480 with 1 Axes>"
      ]
     },
     "metadata": {},
     "output_type": "display_data"
    }
   ],
   "source": [
    "# Comapre the price with touchscreen column:\n",
    "sns.barplot(x=df['Touch_screen'],y=df['Price'])"
   ]
  },
  {
   "cell_type": "code",
   "execution_count": 51,
   "id": "95939019-c438-45f4-92d5-fc9d0d7cdcbf",
   "metadata": {},
   "outputs": [],
   "source": [
    "# IPS panel feature:"
   ]
  },
  {
   "cell_type": "code",
   "execution_count": 52,
   "id": "c1bab98c-08c3-4168-983e-c7e913bb74e2",
   "metadata": {},
   "outputs": [],
   "source": [
    "df['IPS_panel']=df['ScreenResolution'].apply(lambda x:1 if 'IPS Panel' in x else 0)"
   ]
  },
  {
   "cell_type": "code",
   "execution_count": 53,
   "id": "17a3f84f-18a1-4923-b480-ea11b7c3b6ff",
   "metadata": {},
   "outputs": [
    {
     "data": {
      "text/plain": [
       "<Axes: xlabel='IPS_panel'>"
      ]
     },
     "execution_count": 53,
     "metadata": {},
     "output_type": "execute_result"
    },
    {
     "data": {
      "image/png": "[encoded data removed]",
      "text/plain": [
       "<Figure size 640x480 with 1 Axes>"
      ]
     },
     "metadata": {},
     "output_type": "display_data"
    }
   ],
   "source": [
    "df['IPS_panel'].value_counts().plot(kind='bar')"
   ]
  },
  {
   "cell_type": "code",
   "execution_count": 54,
   "id": "dec3cd93-9775-4c29-8c81-a41533e1d487",
   "metadata": {},
   "outputs": [
    {
     "data": {
      "text/plain": [
       "<Axes: xlabel='IPS_panel', ylabel='Price'>"
      ]
     },
     "execution_count": 54,
     "metadata": {},
     "output_type": "execute_result"
    },
    {
     "data": {
      "image/png": "[encoded data removed]",
      "text/plain": [
       "<Figure size 640x480 with 1 Axes>"
      ]
     },
     "metadata": {},
     "output_type": "display_data"
    }
   ],
   "source": [
    "sns.barplot(x=df['IPS_panel'],y=df['Price'])"
   ]
  },
  {
   "cell_type": "code",
   "execution_count": 55,
   "id": "ae3e7dd7-8d85-40a6-b21e-0f6deab6f8c3",
   "metadata": {},
   "outputs": [],
   "source": [
    "# craet a feature 4k_display\n",
    "df['4k_display'] = df['ScreenResolution'].apply(lambda x: 1 if '4K' in x else 0)"
   ]
  },
  {
   "cell_type": "code",
   "execution_count": 56,
   "id": "a1896f41-85ee-442c-b498-4e5785ab7a90",
   "metadata": {},
   "outputs": [
    {
     "data": {
      "text/plain": [
       "<Axes: xlabel='4k_display'>"
      ]
     },
     "execution_count": 56,
     "metadata": {},
     "output_type": "execute_result"
    },
    {
     "data": {
      "image/png": "[encoded data removed]",
      "text/plain": [
       "<Figure size 640x480 with 1 Axes>"
      ]
     },
     "metadata": {},
     "output_type": "display_data"
    }
   ],
   "source": [
    "df['4k_display'].value_counts().plot(kind='bar')"
   ]
  },
  {
   "cell_type": "code",
   "execution_count": 57,
   "id": "4b2a2ce2-449a-423a-8ef1-0edc9cd0198e",
   "metadata": {},
   "outputs": [],
   "source": [
    "# compare the price with 4k_ display column:"
   ]
  },
  {
   "cell_type": "code",
   "execution_count": 58,
   "id": "5833f3c2-b5a8-4fb4-96b1-eff15348a26f",
   "metadata": {},
   "outputs": [
    {
     "data": {
      "text/plain": [
       "<Axes: xlabel='4k_display', ylabel='Price'>"
      ]
     },
     "execution_count": 58,
     "metadata": {},
     "output_type": "execute_result"
    },
    {
     "data": {
      "image/png": "[encoded data removed]",
      "text/plain": [
       "<Figure size 640x480 with 1 Axes>"
      ]
     },
     "metadata": {},
     "output_type": "display_data"
    }
   ],
   "source": [
    "sns.barplot(x=df['4k_display'],y=df['Price'])"
   ]
  },
  {
   "cell_type": "code",
   "execution_count": 59,
   "id": "e63ecc6e-e686-4144-b09d-618168d36f39",
   "metadata": {},
   "outputs": [],
   "source": [
    "# creat a full hd feature:"
   ]
  },
  {
   "cell_type": "code",
   "execution_count": 60,
   "id": "8513f7d8-0d71-440c-a279-b51c0ac7ee3c",
   "metadata": {},
   "outputs": [],
   "source": [
    "df['full_hd'] = df['ScreenResolution'].apply(lambda x: 1 if 'Full HD' in x else 0)"
   ]
  },
  {
   "cell_type": "code",
   "execution_count": 61,
   "id": "8e27591a-3d96-4d87-9ace-40f9a8a19d80",
   "metadata": {},
   "outputs": [
    {
     "data": {
      "text/plain": [
       "<Axes: xlabel='full_hd'>"
      ]
     },
     "execution_count": 61,
     "metadata": {},
     "output_type": "execute_result"
    },
    {
     "data": {
      "image/png": "[encoded data removed]",
      "text/plain": [
       "<Figure size 640x480 with 1 Axes>"
      ]
     },
     "metadata": {},
     "output_type": "display_data"
    }
   ],
   "source": [
    "df['full_hd'].value_counts().plot(kind='bar')"
   ]
  },
  {
   "cell_type": "code",
   "execution_count": 62,
   "id": "25e18e95-14e4-4656-aa00-b11f767a024c",
   "metadata": {},
   "outputs": [
    {
     "data": {
      "text/plain": [
       "<Axes: xlabel='full_hd', ylabel='Price'>"
      ]
     },
     "execution_count": 62,
     "metadata": {},
     "output_type": "execute_result"
    },
    {
     "data": {
      "image/png": "[encoded data removed]",
      "text/plain": [
       "<Figure size 640x480 with 1 Axes>"
      ]
     },
     "metadata": {},
     "output_type": "display_data"
    }
   ],
   "source": [
    "sns.barplot(x=df['full_hd'],y=df['Price'])"
   ]
  },
  {
   "cell_type": "code",
   "execution_count": 63,
   "id": "5e5052c1-59e8-4848-b761-d0125f60b82d",
   "metadata": {
    "scrolled": true
   },
   "outputs": [
    {
     "data": {
      "text/plain": [
       "0       [2560, 1600]\n",
       "1        [1440, 900]\n",
       "2       [1920, 1080]\n",
       "3       [2880, 1800]\n",
       "4       [2560, 1600]\n",
       "            ...     \n",
       "1269     [1366, 768]\n",
       "1270    [1920, 1080]\n",
       "1271    [3200, 1800]\n",
       "1272     [1366, 768]\n",
       "1273     [1366, 768]\n",
       "Name: Resolution, Length: 1274, dtype: object"
      ]
     },
     "execution_count": 63,
     "metadata": {},
     "output_type": "execute_result"
    }
   ],
   "source": [
    "list=df['Resolution'].str.split('x')\n",
    "list"
   ]
  },
  {
   "cell_type": "code",
   "execution_count": 64,
   "id": "e134e223-8cb1-4507-a030-bef81efe8f18",
   "metadata": {},
   "outputs": [],
   "source": [
    "x_res=[]\n",
    "y_res=[]\n",
    "for i in range(1274):\n",
    "    x_res.append(list[i][0])\n",
    "    y_res.append(list[i][1])"
   ]
  },
  {
   "cell_type": "code",
   "execution_count": 65,
   "id": "25d8131d-b0c3-418a-8e3f-444bd883ace2",
   "metadata": {},
   "outputs": [],
   "source": [
    "df['x_resolution']=x_res\n",
    "df['y_resolution']=y_res"
   ]
  },
  {
   "cell_type": "code",
   "execution_count": 66,
   "id": "3628daaf-05bb-4e27-a706-531140ccf11d",
   "metadata": {},
   "outputs": [],
   "source": [
    "df['x_resolution']=df['x_resolution'].astype('int')\n",
    "df['y_resolution']=df['y_resolution'].astype('int')"
   ]
  },
  {
   "cell_type": "code",
   "execution_count": 67,
   "id": "48ca58fd-0fe6-4b50-a5dd-b4fdeaa6f617",
   "metadata": {},
   "outputs": [
    {
     "data": {
      "text/html": [
       "<div>\n",
       "<style scoped>\n",
       "    .dataframe tbody tr th:only-of-type {\n",
       "        vertical-align: middle;\n",
       "    }\n",
       "\n",
       "    .dataframe tbody tr th {\n",
       "        vertical-align: top;\n",
       "    }\n",
       "\n",
       "    .dataframe thead th {\n",
       "        text-align: right;\n",
       "    }\n",
       "</style>\n",
       "<table border=\"1\" class=\"dataframe\">\n",
       "  <thead>\n",
       "    <tr style=\"text-align: right;\">\n",
       "      <th></th>\n",
       "      <th>Company</th>\n",
       "      <th>TypeName</th>\n",
       "      <th>Inches</th>\n",
       "      <th>ScreenResolution</th>\n",
       "      <th>Cpu</th>\n",
       "      <th>Ram_in_GB</th>\n",
       "      <th>Memory</th>\n",
       "      <th>Gpu</th>\n",
       "      <th>OpSys</th>\n",
       "      <th>Weight_in_kg</th>\n",
       "      <th>Price</th>\n",
       "      <th>Resolution</th>\n",
       "      <th>Touch_screen</th>\n",
       "      <th>IPS_panel</th>\n",
       "      <th>4k_display</th>\n",
       "      <th>full_hd</th>\n",
       "      <th>x_resolution</th>\n",
       "      <th>y_resolution</th>\n",
       "    </tr>\n",
       "  </thead>\n",
       "  <tbody>\n",
       "    <tr>\n",
       "      <th>0</th>\n",
       "      <td>Apple</td>\n",
       "      <td>Ultrabook</td>\n",
       "      <td>13.3</td>\n",
       "      <td>IPS Panel Retina Display 2560x1600</td>\n",
       "      <td>Intel Core i5 2.3GHz</td>\n",
       "      <td>8</td>\n",
       "      <td>128GB SSD</td>\n",
       "      <td>Intel Iris Plus Graphics 640</td>\n",
       "      <td>macOS</td>\n",
       "      <td>1.37</td>\n",
       "      <td>71378</td>\n",
       "      <td>2560x1600</td>\n",
       "      <td>0</td>\n",
       "      <td>1</td>\n",
       "      <td>0</td>\n",
       "      <td>0</td>\n",
       "      <td>2560</td>\n",
       "      <td>1600</td>\n",
       "    </tr>\n",
       "    <tr>\n",
       "      <th>1</th>\n",
       "      <td>Apple</td>\n",
       "      <td>Ultrabook</td>\n",
       "      <td>13.3</td>\n",
       "      <td>1440x900</td>\n",
       "      <td>Intel Core i5 1.8GHz</td>\n",
       "      <td>8</td>\n",
       "      <td>128GB Flash Storage</td>\n",
       "      <td>Intel HD Graphics 6000</td>\n",
       "      <td>macOS</td>\n",
       "      <td>1.34</td>\n",
       "      <td>47895</td>\n",
       "      <td>1440x900</td>\n",
       "      <td>0</td>\n",
       "      <td>0</td>\n",
       "      <td>0</td>\n",
       "      <td>0</td>\n",
       "      <td>1440</td>\n",
       "      <td>900</td>\n",
       "    </tr>\n",
       "  </tbody>\n",
       "</table>\n",
       "</div>"
      ],
      "text/plain": [
       "  Company   TypeName  Inches                    ScreenResolution  \\\n",
       "0   Apple  Ultrabook    13.3  IPS Panel Retina Display 2560x1600   \n",
       "1   Apple  Ultrabook    13.3                            1440x900   \n",
       "\n",
       "                    Cpu  Ram_in_GB               Memory  \\\n",
       "0  Intel Core i5 2.3GHz          8            128GB SSD   \n",
       "1  Intel Core i5 1.8GHz          8  128GB Flash Storage   \n",
       "\n",
       "                            Gpu  OpSys  Weight_in_kg  Price Resolution  \\\n",
       "0  Intel Iris Plus Graphics 640  macOS          1.37  71378  2560x1600   \n",
       "1        Intel HD Graphics 6000  macOS          1.34  47895   1440x900   \n",
       "\n",
       "   Touch_screen  IPS_panel  4k_display  full_hd  x_resolution  y_resolution  \n",
       "0             0          1           0        0          2560          1600  \n",
       "1             0          0           0        0          1440           900  "
      ]
     },
     "execution_count": 67,
     "metadata": {},
     "output_type": "execute_result"
    }
   ],
   "source": [
    "df.head(2)"
   ]
  },
  {
   "cell_type": "markdown",
   "id": "81ac5ffc-479a-4bc4-8f62-113a936b252e",
   "metadata": {},
   "source": [
    "### Creat a new feauture PPI using the screen size(inch), x and y resolution:"
   ]
  },
  {
   "cell_type": "markdown",
   "id": "fe67029e-1e35-423e-92c8-e702512ce8d4",
   "metadata": {},
   "source": [
    "PPI stands for \"Pixels Per Inch.\" It is a measurement of the pixel density of a display screen, indicating how many pixels are present per inch of the display. A higher PPI value means a higher pixel density, which generally results in sharper and clearer images and text on the screen."
   ]
  },
  {
   "cell_type": "code",
   "execution_count": 68,
   "id": "f0347833-8fb9-4c96-928d-1622266d5b46",
   "metadata": {},
   "outputs": [],
   "source": [
    "df['ppi']=((((df['x_resolution'])**2)+((df['y_resolution'])**2))**0.5)/df['Inches']"
   ]
  },
  {
   "cell_type": "markdown",
   "id": "6a982867-a17f-48e2-b145-f097bbf13566",
   "metadata": {},
   "source": [
    "#### Compute the correlation between the 'Price' column and several other columns,"
   ]
  },
  {
   "cell_type": "code",
   "execution_count": 69,
   "id": "831876c8-5c8b-4248-8c02-d6bd0ee8c999",
   "metadata": {},
   "outputs": [
    {
     "name": "stdout",
     "output_type": "stream",
     "text": [
      "Inches          0.066990\n",
      "Ram_in_GB       0.740106\n",
      "Weight_in_kg    0.212192\n",
      "Price           1.000000\n",
      "Touch_screen    0.188630\n",
      "IPS_panel       0.250357\n",
      "4k_display      0.344003\n",
      "full_hd         0.188306\n",
      "ppi             0.469538\n",
      "Name: Price, dtype: float64\n"
     ]
    }
   ],
   "source": [
    "columns = ['Inches', 'Ram_in_GB', 'Weight_in_kg', 'Price', 'Touch_screen', 'IPS_panel', '4k_display', 'full_hd','ppi']\n",
    "df_selected = df[columns]\n",
    "\n",
    "# calculate the correlation matrix\n",
    "correlation_matrix = df_selected.corr()\n",
    "\n",
    "# Get the correlation values of 'Price' with other columns\n",
    "price_correlation = correlation_matrix['Price']\n",
    "\n",
    "print(price_correlation)\n"
   ]
  },
  {
   "cell_type": "markdown",
   "id": "b212ea87-247a-4df2-bff1-9cc32cd36006",
   "metadata": {},
   "source": [
    "Using the correlation with the 'Price' column, it is clear that there is a strong correlation with the 'Ram_in_GB' and 'ppi' columns, a moderate correlation with the '4k_display' and 'IPS_panel' columns, and a weak correlation with the 'full_hd', 'Touch_screen', and 'Weight_in_kg' columns."
   ]
  },
  {
   "cell_type": "code",
   "execution_count": 70,
   "id": "8c4e9daa-6809-4a6a-b095-ccf3aca89bc0",
   "metadata": {},
   "outputs": [],
   "source": [
    "df.drop(columns=['ScreenResolution','Inches','x_resolution','y_resolution'],inplace=True)"
   ]
  },
  {
   "cell_type": "code",
   "execution_count": 71,
   "id": "28cc37eb-ae3a-4ab9-9a6e-ec520264d9f9",
   "metadata": {},
   "outputs": [
    {
     "data": {
      "text/html": [
       "<div>\n",
       "<style scoped>\n",
       "    .dataframe tbody tr th:only-of-type {\n",
       "        vertical-align: middle;\n",
       "    }\n",
       "\n",
       "    .dataframe tbody tr th {\n",
       "        vertical-align: top;\n",
       "    }\n",
       "\n",
       "    .dataframe thead th {\n",
       "        text-align: right;\n",
       "    }\n",
       "</style>\n",
       "<table border=\"1\" class=\"dataframe\">\n",
       "  <thead>\n",
       "    <tr style=\"text-align: right;\">\n",
       "      <th></th>\n",
       "      <th>Company</th>\n",
       "      <th>TypeName</th>\n",
       "      <th>Cpu</th>\n",
       "      <th>Ram_in_GB</th>\n",
       "      <th>Memory</th>\n",
       "      <th>Gpu</th>\n",
       "      <th>OpSys</th>\n",
       "      <th>Weight_in_kg</th>\n",
       "      <th>Price</th>\n",
       "      <th>Resolution</th>\n",
       "      <th>Touch_screen</th>\n",
       "      <th>IPS_panel</th>\n",
       "      <th>4k_display</th>\n",
       "      <th>full_hd</th>\n",
       "      <th>ppi</th>\n",
       "    </tr>\n",
       "  </thead>\n",
       "  <tbody>\n",
       "    <tr>\n",
       "      <th>0</th>\n",
       "      <td>Apple</td>\n",
       "      <td>Ultrabook</td>\n",
       "      <td>Intel Core i5 2.3GHz</td>\n",
       "      <td>8</td>\n",
       "      <td>128GB SSD</td>\n",
       "      <td>Intel Iris Plus Graphics 640</td>\n",
       "      <td>macOS</td>\n",
       "      <td>1.37</td>\n",
       "      <td>71378</td>\n",
       "      <td>2560x1600</td>\n",
       "      <td>0</td>\n",
       "      <td>1</td>\n",
       "      <td>0</td>\n",
       "      <td>0</td>\n",
       "      <td>226.983005</td>\n",
       "    </tr>\n",
       "    <tr>\n",
       "      <th>1</th>\n",
       "      <td>Apple</td>\n",
       "      <td>Ultrabook</td>\n",
       "      <td>Intel Core i5 1.8GHz</td>\n",
       "      <td>8</td>\n",
       "      <td>128GB Flash Storage</td>\n",
       "      <td>Intel HD Graphics 6000</td>\n",
       "      <td>macOS</td>\n",
       "      <td>1.34</td>\n",
       "      <td>47895</td>\n",
       "      <td>1440x900</td>\n",
       "      <td>0</td>\n",
       "      <td>0</td>\n",
       "      <td>0</td>\n",
       "      <td>0</td>\n",
       "      <td>127.677940</td>\n",
       "    </tr>\n",
       "    <tr>\n",
       "      <th>2</th>\n",
       "      <td>HP</td>\n",
       "      <td>Notebook</td>\n",
       "      <td>Intel Core i5 7200U 2.5GHz</td>\n",
       "      <td>8</td>\n",
       "      <td>256GB SSD</td>\n",
       "      <td>Intel HD Graphics 620</td>\n",
       "      <td>No OS</td>\n",
       "      <td>1.86</td>\n",
       "      <td>30636</td>\n",
       "      <td>1920x1080</td>\n",
       "      <td>0</td>\n",
       "      <td>0</td>\n",
       "      <td>0</td>\n",
       "      <td>1</td>\n",
       "      <td>141.211998</td>\n",
       "    </tr>\n",
       "  </tbody>\n",
       "</table>\n",
       "</div>"
      ],
      "text/plain": [
       "  Company   TypeName                         Cpu  Ram_in_GB  \\\n",
       "0   Apple  Ultrabook        Intel Core i5 2.3GHz          8   \n",
       "1   Apple  Ultrabook        Intel Core i5 1.8GHz          8   \n",
       "2      HP   Notebook  Intel Core i5 7200U 2.5GHz          8   \n",
       "\n",
       "                Memory                           Gpu  OpSys  Weight_in_kg  \\\n",
       "0            128GB SSD  Intel Iris Plus Graphics 640  macOS          1.37   \n",
       "1  128GB Flash Storage        Intel HD Graphics 6000  macOS          1.34   \n",
       "2            256GB SSD         Intel HD Graphics 620  No OS          1.86   \n",
       "\n",
       "   Price Resolution  Touch_screen  IPS_panel  4k_display  full_hd         ppi  \n",
       "0  71378  2560x1600             0          1           0        0  226.983005  \n",
       "1  47895   1440x900             0          0           0        0  127.677940  \n",
       "2  30636  1920x1080             0          0           0        1  141.211998  "
      ]
     },
     "execution_count": 71,
     "metadata": {},
     "output_type": "execute_result"
    }
   ],
   "source": [
    "df.head(3)"
   ]
  },
  {
   "cell_type": "markdown",
   "id": "d0072fd8-5a48-4366-a4ff-0b78a25b30da",
   "metadata": {},
   "source": [
    "### CPU column:"
   ]
  },
  {
   "cell_type": "code",
   "execution_count": 72,
   "id": "a12eae8b-8350-4117-9af5-166baecdf883",
   "metadata": {},
   "outputs": [],
   "source": [
    "l=[]\n",
    "for i in df['Cpu']:\n",
    "    l.append(i.split(' ')[-1].replace('GHz',''))"
   ]
  },
  {
   "cell_type": "code",
   "execution_count": 73,
   "id": "97bdd85f-1c3e-4825-bb78-d64e2f1de853",
   "metadata": {},
   "outputs": [],
   "source": [
    "df['clock_speed_in_GHz']=l"
   ]
  },
  {
   "cell_type": "code",
   "execution_count": 74,
   "id": "c5ffb55e-ec39-4bba-b571-6a73db98fa1e",
   "metadata": {},
   "outputs": [],
   "source": [
    "df['clock_speed_in_GHz']=df['clock_speed_in_GHz'].astype('float')"
   ]
  },
  {
   "cell_type": "code",
   "execution_count": 75,
   "id": "9fdd5e2c-974a-4a09-9445-492a2d864c7e",
   "metadata": {},
   "outputs": [
    {
     "name": "stdout",
     "output_type": "stream",
     "text": [
      "clock_speed_in_GHz    0.428178\n",
      "Price                 1.000000\n",
      "Name: Price, dtype: float64\n"
     ]
    }
   ],
   "source": [
    "columns = ['clock_speed_in_GHz','Price']\n",
    "df_selected = df[columns]\n",
    "\n",
    "# calculate the correlation matrix\n",
    "correlation_matrix = df_selected.corr()\n",
    "\n",
    "# Get the correlation values of 'Price' with other columns\n",
    "price_correlation = correlation_matrix['Price']\n",
    "\n",
    "print(price_correlation)\n"
   ]
  },
  {
   "cell_type": "markdown",
   "id": "52c94254-6fa0-459c-a219-d60818b8d451",
   "metadata": {},
   "source": [
    "Clock speed of the processor has strong correlation with laptop price."
   ]
  },
  {
   "cell_type": "markdown",
   "id": "735d7f82-3889-47dd-b958-4faa88a7f139",
   "metadata": {},
   "source": [
    "#### Catagorized the whole cpu column in the following parts : 'intel core i7/i5/i3','other intel','AMD'. "
   ]
  },
  {
   "cell_type": "code",
   "execution_count": 76,
   "id": "55b23862-6984-465f-ad8d-d4cd1a29c469",
   "metadata": {},
   "outputs": [],
   "source": [
    "df['Cpu_type']=df['Cpu'].apply(lambda x: ' '.join(x.split(\" \")[0:3] ))"
   ]
  },
  {
   "cell_type": "code",
   "execution_count": 77,
   "id": "4a84346f-100d-41f9-b5f6-9cfdba998873",
   "metadata": {},
   "outputs": [],
   "source": [
    "def processor(text):\n",
    "    if text=='Intel Core i5' or text=='Intel Core i3' or text=='Intel Core i7':\n",
    "        return text\n",
    "    elif text.split(' ')[0]=='Intel':\n",
    "        return 'other intel processor'\n",
    "    elif text.split(' ')[0]=='AMD':\n",
    "        return 'AMD Processor' "
   ]
  },
  {
   "cell_type": "code",
   "execution_count": 78,
   "id": "63cb437f-ee9f-478f-b719-aec7b5d227fd",
   "metadata": {},
   "outputs": [],
   "source": [
    "df['Cpu_type']=df['Cpu_type'].apply(processor)"
   ]
  },
  {
   "cell_type": "code",
   "execution_count": 79,
   "id": "5ff36442-1de2-4dc7-9ed2-d8038e671f16",
   "metadata": {},
   "outputs": [
    {
     "data": {
      "text/plain": [
       "<Axes: xlabel='Cpu_type'>"
      ]
     },
     "execution_count": 79,
     "metadata": {},
     "output_type": "execute_result"
    },
    {
     "data": {
      "image/png": "[encoded data removed]",
      "text/plain": [
       "<Figure size 640x480 with 1 Axes>"
      ]
     },
     "metadata": {},
     "output_type": "display_data"
    }
   ],
   "source": [
    "df['Cpu_type'].value_counts().plot(kind='bar')"
   ]
  },
  {
   "cell_type": "code",
   "execution_count": 80,
   "id": "bb4dcb94-fa09-45f1-922a-60a8fbe89ffa",
   "metadata": {},
   "outputs": [
    {
     "data": {
      "image/png": "[encoded data removed]",
      "text/plain": [
       "<Figure size 640x480 with 1 Axes>"
      ]
     },
     "metadata": {},
     "output_type": "display_data"
    }
   ],
   "source": [
    "sns.barplot(x=df['Cpu_type'],y=df['Price'])\n",
    "plt.xticks(rotation='vertical')\n",
    "plt.show()"
   ]
  },
  {
   "cell_type": "code",
   "execution_count": 81,
   "id": "b46a399a-adb0-44e9-9f8c-7c474f4e2652",
   "metadata": {},
   "outputs": [],
   "source": [
    "df.drop(columns=['Cpu','Resolution'],inplace=True)"
   ]
  },
  {
   "cell_type": "code",
   "execution_count": 82,
   "id": "632c4902-99e6-40a0-849a-6c1ef5664fdf",
   "metadata": {},
   "outputs": [
    {
     "data": {
      "text/html": [
       "<div>\n",
       "<style scoped>\n",
       "    .dataframe tbody tr th:only-of-type {\n",
       "        vertical-align: middle;\n",
       "    }\n",
       "\n",
       "    .dataframe tbody tr th {\n",
       "        vertical-align: top;\n",
       "    }\n",
       "\n",
       "    .dataframe thead th {\n",
       "        text-align: right;\n",
       "    }\n",
       "</style>\n",
       "<table border=\"1\" class=\"dataframe\">\n",
       "  <thead>\n",
       "    <tr style=\"text-align: right;\">\n",
       "      <th></th>\n",
       "      <th>Company</th>\n",
       "      <th>TypeName</th>\n",
       "      <th>Ram_in_GB</th>\n",
       "      <th>Memory</th>\n",
       "      <th>Gpu</th>\n",
       "      <th>OpSys</th>\n",
       "      <th>Weight_in_kg</th>\n",
       "      <th>Price</th>\n",
       "      <th>Touch_screen</th>\n",
       "      <th>IPS_panel</th>\n",
       "      <th>4k_display</th>\n",
       "      <th>full_hd</th>\n",
       "      <th>ppi</th>\n",
       "      <th>clock_speed_in_GHz</th>\n",
       "      <th>Cpu_type</th>\n",
       "    </tr>\n",
       "  </thead>\n",
       "  <tbody>\n",
       "    <tr>\n",
       "      <th>0</th>\n",
       "      <td>Apple</td>\n",
       "      <td>Ultrabook</td>\n",
       "      <td>8</td>\n",
       "      <td>128GB SSD</td>\n",
       "      <td>Intel Iris Plus Graphics 640</td>\n",
       "      <td>macOS</td>\n",
       "      <td>1.37</td>\n",
       "      <td>71378</td>\n",
       "      <td>0</td>\n",
       "      <td>1</td>\n",
       "      <td>0</td>\n",
       "      <td>0</td>\n",
       "      <td>226.983005</td>\n",
       "      <td>2.3</td>\n",
       "      <td>Intel Core i5</td>\n",
       "    </tr>\n",
       "    <tr>\n",
       "      <th>1</th>\n",
       "      <td>Apple</td>\n",
       "      <td>Ultrabook</td>\n",
       "      <td>8</td>\n",
       "      <td>128GB Flash Storage</td>\n",
       "      <td>Intel HD Graphics 6000</td>\n",
       "      <td>macOS</td>\n",
       "      <td>1.34</td>\n",
       "      <td>47895</td>\n",
       "      <td>0</td>\n",
       "      <td>0</td>\n",
       "      <td>0</td>\n",
       "      <td>0</td>\n",
       "      <td>127.677940</td>\n",
       "      <td>1.8</td>\n",
       "      <td>Intel Core i5</td>\n",
       "    </tr>\n",
       "  </tbody>\n",
       "</table>\n",
       "</div>"
      ],
      "text/plain": [
       "  Company   TypeName  Ram_in_GB               Memory  \\\n",
       "0   Apple  Ultrabook          8            128GB SSD   \n",
       "1   Apple  Ultrabook          8  128GB Flash Storage   \n",
       "\n",
       "                            Gpu  OpSys  Weight_in_kg  Price  Touch_screen  \\\n",
       "0  Intel Iris Plus Graphics 640  macOS          1.37  71378             0   \n",
       "1        Intel HD Graphics 6000  macOS          1.34  47895             0   \n",
       "\n",
       "   IPS_panel  4k_display  full_hd         ppi  clock_speed_in_GHz  \\\n",
       "0          1           0        0  226.983005                 2.3   \n",
       "1          0           0        0  127.677940                 1.8   \n",
       "\n",
       "        Cpu_type  \n",
       "0  Intel Core i5  \n",
       "1  Intel Core i5  "
      ]
     },
     "execution_count": 82,
     "metadata": {},
     "output_type": "execute_result"
    }
   ],
   "source": [
    "df.head(2)"
   ]
  },
  {
   "cell_type": "markdown",
   "id": "0d05ecfd-08b4-4e39-ac80-f04e49a00667",
   "metadata": {},
   "source": [
    "### Memory column:"
   ]
  },
  {
   "cell_type": "code",
   "execution_count": 83,
   "id": "be11b2c8-9e30-4805-9a42-a06ca89a031e",
   "metadata": {
    "scrolled": true
   },
   "outputs": [
    {
     "data": {
      "text/plain": [
       "Memory\n",
       "256GB SSD                        412\n",
       "1TB HDD                          215\n",
       "500GB HDD                        123\n",
       "512GB SSD                        114\n",
       "128GB SSD +  1TB HDD              94\n",
       "128GB SSD                         74\n",
       "256GB SSD +  1TB HDD              73\n",
       "32GB Flash Storage                36\n",
       "2TB HDD                           16\n",
       "512GB SSD +  1TB HDD              14\n",
       "1TB SSD                           14\n",
       "64GB Flash Storage                13\n",
       "256GB SSD +  2TB HDD              10\n",
       "256GB Flash Storage                8\n",
       "16GB Flash Storage                 7\n",
       "1.0TB Hybrid                       7\n",
       "32GB SSD                           6\n",
       "180GB SSD                          5\n",
       "128GB Flash Storage                4\n",
       "512GB SSD +  2TB HDD               3\n",
       "16GB SSD                           3\n",
       "512GB Flash Storage                2\n",
       "1TB SSD +  1TB HDD                 2\n",
       "256GB SSD +  500GB HDD             2\n",
       "128GB SSD +  2TB HDD               2\n",
       "256GB SSD +  256GB SSD             2\n",
       "512GB SSD +  256GB SSD             1\n",
       "512GB SSD +  512GB SSD             1\n",
       "64GB Flash Storage +  1TB HDD      1\n",
       "1TB HDD +  1TB HDD                 1\n",
       "32GB HDD                           1\n",
       "64GB SSD                           1\n",
       "128GB HDD                          1\n",
       "240GB SSD                          1\n",
       "8GB SSD                            1\n",
       "508GB Hybrid                       1\n",
       "1.0TB HDD                          1\n",
       "512GB SSD +  1.0TB Hybrid          1\n",
       "256GB SSD +  1.0TB Hybrid          1\n",
       "Name: count, dtype: int64"
      ]
     },
     "execution_count": 83,
     "metadata": {},
     "output_type": "execute_result"
    }
   ],
   "source": [
    "df['Memory'].value_counts()"
   ]
  },
  {
   "cell_type": "markdown",
   "id": "ce5c01b3-975d-406e-828f-86c1ddd1751b",
   "metadata": {},
   "source": [
    "Create 4 columns HDD, SSD, Hybrid,Flash storage from the memory column."
   ]
  },
  {
   "cell_type": "code",
   "execution_count": 84,
   "id": "697d89ad-2825-4f50-8cf8-7da98ffeb65a",
   "metadata": {},
   "outputs": [],
   "source": [
    "df['Memory'] = df['Memory'].astype(str).replace('\\.0', '')\n",
    "df[\"Memory\"] = df[\"Memory\"].str.replace('GB', '')\n",
    "df[\"Memory\"] = df[\"Memory\"].str.replace('TB', '000')\n",
    "new = df[\"Memory\"].str.split(\"+\", expand = True)\n",
    "\n",
    "df['first']=new[0]\n",
    "df['second']=new[1]\n",
    "\n",
    "df['layer1_hdd']=df['first'].apply(lambda x: 1 if 'HDD' in x else 0)\n",
    "df['layer1_ssd']=df['first'].apply(lambda x: 1 if 'SSD' in x else 0)\n",
    "df['layer1_Hybrid']=df['first'].apply(lambda x: 1 if 'Hybrid' in x else 0)\n",
    "df['layer1_Flash Storage']=df['first'].apply(lambda x: 1 if 'Flash Storage' in x else 0)\n",
    "\n",
    "df['first']=df['first'].str.replace('HDD','')\n",
    "df['first']=df['first'].str.replace('SSD','')\n",
    "df['first']=df['first'].str.replace('Hybrid','')\n",
    "df['first']=df['first'].str.replace('Flash Storage','')\n",
    "\n",
    "df['second'].isnull().sum()\n",
    "df['second'].fillna('0',inplace=True)\n",
    "df['second'].isnull().sum()\n",
    "\n",
    "df['layer2_hdd']=df['second'].apply(lambda x: 1 if 'HDD' in x else 0)\n",
    "df['layer2_ssd']=df['second'].apply(lambda x: 1 if 'SSD' in x else 0)\n",
    "df['layer2_Hybrid']=df['second'].apply(lambda x: 1 if 'Hybrid' in x else 0)\n",
    "df['layer2_Flash Storage']=df['second'].apply(lambda x: 1 if 'Flash Storage' in x else 0)\n",
    "\n",
    "df['second']=df['second'].str.replace('HDD','')\n",
    "df['second']=df['second'].str.replace('SSD','')\n",
    "df['second']=df['second'].str.replace('Hybrid','')\n",
    "df['second']=df['second'].str.replace('Flash Storage','')\n",
    "\n",
    "df['first']=df['first'].astype('float')\n",
    "df['second']=df['second'].astype('float')\n",
    "\n",
    "df['HDD']=(df['first']*df['layer1_hdd'])+(df['second']*df['layer2_hdd'])\n",
    "df['SSD']=(df['first']*df['layer1_ssd'])+(df['second']*df['layer2_ssd'])\n",
    "df['Hybrid']=(df['first']*df['layer1_Hybrid'])+(df['second']*df['layer2_Hybrid'])\n",
    "df['Flash Storage']=(df['first']*df['layer1_Flash Storage'])+(df['second']*df['layer2_Flash Storage'])\n",
    "\n",
    "df.drop(columns=['first','second','layer1_hdd','layer1_ssd','layer1_Hybrid',\n",
    "                 'layer1_Flash Storage','layer2_hdd','layer2_ssd','layer2_Hybrid','layer2_Flash Storage','Memory'],inplace=True)\n"
   ]
  },
  {
   "cell_type": "markdown",
   "id": "e9dcd79a-6888-4375-808a-c5b7887e5f73",
   "metadata": {},
   "source": [
    "### GPU"
   ]
  },
  {
   "cell_type": "code",
   "execution_count": 85,
   "id": "30dd080b-3473-4d2d-9512-57740a512db9",
   "metadata": {},
   "outputs": [
    {
     "data": {
      "text/plain": [
       "Gpu\n",
       "Intel HD Graphics 620      279\n",
       "Intel HD Graphics 520      181\n",
       "Intel UHD Graphics 620      68\n",
       "Nvidia GeForce GTX 1050     66\n",
       "Nvidia GeForce GTX 1060     48\n",
       "                          ... \n",
       "AMD Radeon R5 520            1\n",
       "AMD Radeon R7                1\n",
       "Intel HD Graphics 540        1\n",
       "AMD Radeon 540               1\n",
       "ARM Mali T860 MP4            1\n",
       "Name: count, Length: 110, dtype: int64"
      ]
     },
     "execution_count": 85,
     "metadata": {},
     "output_type": "execute_result"
    }
   ],
   "source": [
    "df['Gpu'].value_counts()"
   ]
  },
  {
   "cell_type": "code",
   "execution_count": 86,
   "id": "156b5d55-30e7-4d18-a9e5-4a5a6c56b9c1",
   "metadata": {},
   "outputs": [],
   "source": [
    "df['gpu brand']=df['Gpu'].apply(lambda x: x.split(' ')[0])"
   ]
  },
  {
   "cell_type": "code",
   "execution_count": 87,
   "id": "8f73b6c3-b321-4ae1-87ef-3e695cd6a077",
   "metadata": {},
   "outputs": [],
   "source": [
    "df.drop(columns=['Gpu','Flash Storage','Hybrid'],inplace=True)"
   ]
  },
  {
   "cell_type": "code",
   "execution_count": 88,
   "id": "e5f6ab68-8d7a-4190-a9b7-483176b389d6",
   "metadata": {},
   "outputs": [
    {
     "data": {
      "text/plain": [
       "<Axes: xlabel='gpu brand', ylabel='Price'>"
      ]
     },
     "execution_count": 88,
     "metadata": {},
     "output_type": "execute_result"
    },
    {
     "data": {
      "image/png": "[encoded data removed]",
      "text/plain": [
       "<Figure size 640x480 with 1 Axes>"
      ]
     },
     "metadata": {},
     "output_type": "display_data"
    }
   ],
   "source": [
    "sns.barplot(x=df['gpu brand'], y=df['Price'])"
   ]
  },
  {
   "cell_type": "code",
   "execution_count": 89,
   "id": "67b279b1-7b55-4a0c-a860-2977e6f9d3b9",
   "metadata": {},
   "outputs": [
    {
     "data": {
      "text/html": [
       "<div>\n",
       "<style scoped>\n",
       "    .dataframe tbody tr th:only-of-type {\n",
       "        vertical-align: middle;\n",
       "    }\n",
       "\n",
       "    .dataframe tbody tr th {\n",
       "        vertical-align: top;\n",
       "    }\n",
       "\n",
       "    .dataframe thead th {\n",
       "        text-align: right;\n",
       "    }\n",
       "</style>\n",
       "<table border=\"1\" class=\"dataframe\">\n",
       "  <thead>\n",
       "    <tr style=\"text-align: right;\">\n",
       "      <th></th>\n",
       "      <th>Company</th>\n",
       "      <th>TypeName</th>\n",
       "      <th>Ram_in_GB</th>\n",
       "      <th>OpSys</th>\n",
       "      <th>Weight_in_kg</th>\n",
       "      <th>Price</th>\n",
       "      <th>Touch_screen</th>\n",
       "      <th>IPS_panel</th>\n",
       "      <th>4k_display</th>\n",
       "      <th>full_hd</th>\n",
       "      <th>ppi</th>\n",
       "      <th>clock_speed_in_GHz</th>\n",
       "      <th>Cpu_type</th>\n",
       "      <th>HDD</th>\n",
       "      <th>SSD</th>\n",
       "      <th>gpu brand</th>\n",
       "    </tr>\n",
       "  </thead>\n",
       "  <tbody>\n",
       "    <tr>\n",
       "      <th>0</th>\n",
       "      <td>Apple</td>\n",
       "      <td>Ultrabook</td>\n",
       "      <td>8</td>\n",
       "      <td>macOS</td>\n",
       "      <td>1.37</td>\n",
       "      <td>71378</td>\n",
       "      <td>0</td>\n",
       "      <td>1</td>\n",
       "      <td>0</td>\n",
       "      <td>0</td>\n",
       "      <td>226.983005</td>\n",
       "      <td>2.3</td>\n",
       "      <td>Intel Core i5</td>\n",
       "      <td>0.0</td>\n",
       "      <td>128.0</td>\n",
       "      <td>Intel</td>\n",
       "    </tr>\n",
       "    <tr>\n",
       "      <th>1</th>\n",
       "      <td>Apple</td>\n",
       "      <td>Ultrabook</td>\n",
       "      <td>8</td>\n",
       "      <td>macOS</td>\n",
       "      <td>1.34</td>\n",
       "      <td>47895</td>\n",
       "      <td>0</td>\n",
       "      <td>0</td>\n",
       "      <td>0</td>\n",
       "      <td>0</td>\n",
       "      <td>127.677940</td>\n",
       "      <td>1.8</td>\n",
       "      <td>Intel Core i5</td>\n",
       "      <td>0.0</td>\n",
       "      <td>0.0</td>\n",
       "      <td>Intel</td>\n",
       "    </tr>\n",
       "  </tbody>\n",
       "</table>\n",
       "</div>"
      ],
      "text/plain": [
       "  Company   TypeName  Ram_in_GB  OpSys  Weight_in_kg  Price  Touch_screen  \\\n",
       "0   Apple  Ultrabook          8  macOS          1.37  71378             0   \n",
       "1   Apple  Ultrabook          8  macOS          1.34  47895             0   \n",
       "\n",
       "   IPS_panel  4k_display  full_hd         ppi  clock_speed_in_GHz  \\\n",
       "0          1           0        0  226.983005                 2.3   \n",
       "1          0           0        0  127.677940                 1.8   \n",
       "\n",
       "        Cpu_type  HDD    SSD gpu brand  \n",
       "0  Intel Core i5  0.0  128.0     Intel  \n",
       "1  Intel Core i5  0.0    0.0     Intel  "
      ]
     },
     "execution_count": 89,
     "metadata": {},
     "output_type": "execute_result"
    }
   ],
   "source": [
    "df.head(2)"
   ]
  },
  {
   "cell_type": "markdown",
   "id": "4f6eaa0a-5fdf-4ac9-a30d-22060d4cd365",
   "metadata": {},
   "source": [
    "## OpSys:"
   ]
  },
  {
   "cell_type": "code",
   "execution_count": 90,
   "id": "750a28eb-bf0c-46e8-8ef5-2dac29e12b8e",
   "metadata": {},
   "outputs": [
    {
     "data": {
      "text/plain": [
       "OpSys\n",
       "Windows 10      1047\n",
       "No OS             66\n",
       "Linux             58\n",
       "Windows 7         45\n",
       "Chrome OS         27\n",
       "macOS             13\n",
       "Mac OS X           8\n",
       "Windows 10 S       8\n",
       "Android            2\n",
       "Name: count, dtype: int64"
      ]
     },
     "execution_count": 90,
     "metadata": {},
     "output_type": "execute_result"
    }
   ],
   "source": [
    "df['OpSys'].value_counts()"
   ]
  },
  {
   "cell_type": "markdown",
   "id": "cfd0af23-90e2-48f5-9c9c-8b949a365628",
   "metadata": {},
   "source": [
    "create three catagories windows , mac and others"
   ]
  },
  {
   "cell_type": "code",
   "execution_count": 91,
   "id": "f168dc05-9214-4fe4-8498-bb576493472c",
   "metadata": {},
   "outputs": [],
   "source": [
    "def operating_system(text):\n",
    "    if text =='Windows 10 ' or text=='Windows 7' or text =='Windows 10 S' :\n",
    "        return 'windows'\n",
    "    elif text=='macOS' or text =='Mac OS X' :\n",
    "        return 'Mac'\n",
    "    else:\n",
    "        return 'Others'\n"
   ]
  },
  {
   "cell_type": "code",
   "execution_count": 92,
   "id": "dfcc8a77-d371-4265-a526-b6ecd3001f21",
   "metadata": {},
   "outputs": [],
   "source": [
    "df['operating system']=df['OpSys'].apply(operating_system)"
   ]
  },
  {
   "cell_type": "code",
   "execution_count": 93,
   "id": "636b963f-6036-4ebd-9a79-5924e7e017b0",
   "metadata": {},
   "outputs": [],
   "source": [
    "df.drop(columns=['OpSys'],inplace=True)"
   ]
  },
  {
   "cell_type": "code",
   "execution_count": 94,
   "id": "020b0198-0e7f-4742-a70f-ed5feb713947",
   "metadata": {},
   "outputs": [
    {
     "data": {
      "text/plain": [
       "<Axes: xlabel='operating system', ylabel='Price'>"
      ]
     },
     "execution_count": 94,
     "metadata": {},
     "output_type": "execute_result"
    },
    {
     "data": {
      "image/png": "[encoded data removed]",
      "text/plain": [
       "<Figure size 640x480 with 1 Axes>"
      ]
     },
     "metadata": {},
     "output_type": "display_data"
    }
   ],
   "source": [
    "sns.barplot(x=df['operating system'],y=df['Price'])"
   ]
  },
  {
   "cell_type": "markdown",
   "id": "2f8bcea2-34d0-4f75-9954-50eea73490b9",
   "metadata": {},
   "source": [
    "## Target Column price:"
   ]
  },
  {
   "cell_type": "code",
   "execution_count": 95,
   "id": "4c6084a0-9db6-43cf-9ad4-c732c900876a",
   "metadata": {},
   "outputs": [
    {
     "name": "stderr",
     "output_type": "stream",
     "text": [
      "C:\\Users\\Tirtha Ghosh\\AppData\\Local\\Temp\\ipykernel_17968\\834922981.py:1: UserWarning: \n",
      "\n",
      "`distplot` is a deprecated function and will be removed in seaborn v0.14.0.\n",
      "\n",
      "Please adapt your code to use either `displot` (a figure-level function with\n",
      "similar flexibility) or `histplot` (an axes-level function for histograms).\n",
      "\n",
      "For a guide to updating your code to use the new functions, please see\n",
      "https://gist.github.com/mwaskom/de44147ed2974457ad6372750bbe5751\n",
      "\n",
      "  sns.distplot(df['Price'])\n",
      "C:\\Users\\Tirtha Ghosh\\anaconda3\\Lib\\site-packages\\seaborn\\_oldcore.py:1119: FutureWarning: use_inf_as_na option is deprecated and will be removed in a future version. Convert inf values to NaN before operating instead.\n",
      "  with pd.option_context('mode.use_inf_as_na', True):\n"
     ]
    },
    {
     "data": {
      "text/plain": [
       "<Axes: xlabel='Price', ylabel='Density'>"
      ]
     },
     "execution_count": 95,
     "metadata": {},
     "output_type": "execute_result"
    },
    {
     "data": {
      "image/png": "[encoded data removed]",
      "text/plain": [
       "<Figure size 640x480 with 1 Axes>"
      ]
     },
     "metadata": {},
     "output_type": "display_data"
    }
   ],
   "source": [
    "sns.distplot(df['Price'])"
   ]
  },
  {
   "cell_type": "markdown",
   "id": "e5e4e7fc-16c0-4575-971e-f0df62864b39",
   "metadata": {},
   "source": [
    "This price column is right skewed. So, we use box-cox trnasformation to make it normal distribution."
   ]
  },
  {
   "cell_type": "code",
   "execution_count": 96,
   "id": "0a3b4582-deca-4452-a241-b6d65cf9273b",
   "metadata": {},
   "outputs": [
    {
     "name": "stderr",
     "output_type": "stream",
     "text": [
      "C:\\Users\\Tirtha Ghosh\\AppData\\Local\\Temp\\ipykernel_17968\\956725316.py:4: UserWarning: \n",
      "\n",
      "`distplot` is a deprecated function and will be removed in seaborn v0.14.0.\n",
      "\n",
      "Please adapt your code to use either `displot` (a figure-level function with\n",
      "similar flexibility) or `histplot` (an axes-level function for histograms).\n",
      "\n",
      "For a guide to updating your code to use the new functions, please see\n",
      "https://gist.github.com/mwaskom/de44147ed2974457ad6372750bbe5751\n",
      "\n",
      "  sns.distplot(transformed_data)\n",
      "C:\\Users\\Tirtha Ghosh\\anaconda3\\Lib\\site-packages\\seaborn\\_oldcore.py:1119: FutureWarning: use_inf_as_na option is deprecated and will be removed in a future version. Convert inf values to NaN before operating instead.\n",
      "  with pd.option_context('mode.use_inf_as_na', True):\n"
     ]
    },
    {
     "data": {
      "image/png": "[encoded data removed]",
      "text/plain": [
       "<Figure size 640x480 with 1 Axes>"
      ]
     },
     "metadata": {},
     "output_type": "display_data"
    },
    {
     "name": "stdout",
     "output_type": "stream",
     "text": [
      "Skew value -0.011577953748405378\n"
     ]
    }
   ],
   "source": [
    "y=df['Price']\n",
    "transformed_data, best_lambda = stats.boxcox(y)\n",
    "\n",
    "sns.distplot(transformed_data)\n",
    "skewness_value = skew(transformed_data)\n",
    "plt.show()\n",
    "print('Skew value',skewness_value)"
   ]
  },
  {
   "cell_type": "markdown",
   "id": "de7e70d5-1944-4134-8cf5-1f522fc365f3",
   "metadata": {},
   "source": [
    "## Transform target column :"
   ]
  },
  {
   "cell_type": "code",
   "execution_count": 97,
   "id": "18e8d0cd-26d7-4714-9e5b-24e96456e900",
   "metadata": {},
   "outputs": [],
   "source": [
    "X=df.drop(columns=['Price'])\n",
    "Y, best_lambda = stats.boxcox(df['Price'])"
   ]
  },
  {
   "cell_type": "code",
   "execution_count": 133,
   "id": "77b42d87-b9a5-4f87-af94-1158f6046d11",
   "metadata": {},
   "outputs": [
    {
     "data": {
      "text/plain": [
       "0.11840251956086785"
      ]
     },
     "execution_count": 133,
     "metadata": {},
     "output_type": "execute_result"
    }
   ],
   "source": [
    "best_lambda"
   ]
  },
  {
   "cell_type": "code",
   "execution_count": 98,
   "id": "a9276e14-4a48-40f7-9fa4-f5638a974c0f",
   "metadata": {},
   "outputs": [
    {
     "data": {
      "text/html": [
       "<div>\n",
       "<style scoped>\n",
       "    .dataframe tbody tr th:only-of-type {\n",
       "        vertical-align: middle;\n",
       "    }\n",
       "\n",
       "    .dataframe tbody tr th {\n",
       "        vertical-align: top;\n",
       "    }\n",
       "\n",
       "    .dataframe thead th {\n",
       "        text-align: right;\n",
       "    }\n",
       "</style>\n",
       "<table border=\"1\" class=\"dataframe\">\n",
       "  <thead>\n",
       "    <tr style=\"text-align: right;\">\n",
       "      <th></th>\n",
       "      <th>Company</th>\n",
       "      <th>TypeName</th>\n",
       "      <th>Ram_in_GB</th>\n",
       "      <th>Weight_in_kg</th>\n",
       "      <th>Touch_screen</th>\n",
       "      <th>IPS_panel</th>\n",
       "      <th>4k_display</th>\n",
       "      <th>full_hd</th>\n",
       "      <th>ppi</th>\n",
       "      <th>clock_speed_in_GHz</th>\n",
       "      <th>Cpu_type</th>\n",
       "      <th>HDD</th>\n",
       "      <th>SSD</th>\n",
       "      <th>gpu brand</th>\n",
       "      <th>operating system</th>\n",
       "    </tr>\n",
       "  </thead>\n",
       "  <tbody>\n",
       "    <tr>\n",
       "      <th>0</th>\n",
       "      <td>Apple</td>\n",
       "      <td>Ultrabook</td>\n",
       "      <td>8</td>\n",
       "      <td>1.37</td>\n",
       "      <td>0</td>\n",
       "      <td>1</td>\n",
       "      <td>0</td>\n",
       "      <td>0</td>\n",
       "      <td>226.983005</td>\n",
       "      <td>2.3</td>\n",
       "      <td>Intel Core i5</td>\n",
       "      <td>0.0</td>\n",
       "      <td>128.0</td>\n",
       "      <td>Intel</td>\n",
       "      <td>Mac</td>\n",
       "    </tr>\n",
       "    <tr>\n",
       "      <th>1</th>\n",
       "      <td>Apple</td>\n",
       "      <td>Ultrabook</td>\n",
       "      <td>8</td>\n",
       "      <td>1.34</td>\n",
       "      <td>0</td>\n",
       "      <td>0</td>\n",
       "      <td>0</td>\n",
       "      <td>0</td>\n",
       "      <td>127.677940</td>\n",
       "      <td>1.8</td>\n",
       "      <td>Intel Core i5</td>\n",
       "      <td>0.0</td>\n",
       "      <td>0.0</td>\n",
       "      <td>Intel</td>\n",
       "      <td>Mac</td>\n",
       "    </tr>\n",
       "  </tbody>\n",
       "</table>\n",
       "</div>"
      ],
      "text/plain": [
       "  Company   TypeName  Ram_in_GB  Weight_in_kg  Touch_screen  IPS_panel  \\\n",
       "0   Apple  Ultrabook          8          1.37             0          1   \n",
       "1   Apple  Ultrabook          8          1.34             0          0   \n",
       "\n",
       "   4k_display  full_hd         ppi  clock_speed_in_GHz       Cpu_type  HDD  \\\n",
       "0           0        0  226.983005                 2.3  Intel Core i5  0.0   \n",
       "1           0        0  127.677940                 1.8  Intel Core i5  0.0   \n",
       "\n",
       "     SSD gpu brand operating system  \n",
       "0  128.0     Intel              Mac  \n",
       "1    0.0     Intel              Mac  "
      ]
     },
     "execution_count": 98,
     "metadata": {},
     "output_type": "execute_result"
    }
   ],
   "source": [
    "X.head(2)"
   ]
  },
  {
   "cell_type": "markdown",
   "id": "c4e9b9e7-9ce4-45d5-ac2d-3424121f0b97",
   "metadata": {},
   "source": [
    "## Model Testing:"
   ]
  },
  {
   "cell_type": "code",
   "execution_count": 99,
   "id": "20bbe6b0-d7c5-429e-9d86-e457865d7168",
   "metadata": {},
   "outputs": [],
   "source": [
    "from sklearn.compose import ColumnTransformer\n",
    "from sklearn.pipeline import Pipeline\n",
    "from sklearn.metrics import r2_score,mean_absolute_error\n",
    "from sklearn.preprocessing import OneHotEncoder,StandardScaler"
   ]
  },
  {
   "cell_type": "code",
   "execution_count": 100,
   "id": "bd670c82-a06a-4ded-9aab-4085102e0b53",
   "metadata": {},
   "outputs": [],
   "source": [
    "from sklearn.linear_model import LinearRegression,Lasso\n",
    "from sklearn.tree import DecisionTreeRegressor\n",
    "import xgboost\n",
    "from xgboost import XGBRegressor\n",
    "from sklearn.ensemble import RandomForestRegressor\n",
    "from sklearn.svm import SVR"
   ]
  },
  {
   "cell_type": "code",
   "execution_count": 101,
   "id": "9fdec8b1-0895-4e97-a78d-32092a8141ff",
   "metadata": {},
   "outputs": [],
   "source": [
    "from sklearn.model_selection import train_test_split\n",
    "x_train,x_test,y_train,y_test=train_test_split(X,Y,random_state=2,test_size=0.15)\n"
   ]
  },
  {
   "cell_type": "markdown",
   "id": "93a6696d-3647-429a-a9e9-53775c1adf0b",
   "metadata": {},
   "source": [
    "# Linear Regression:"
   ]
  },
  {
   "cell_type": "code",
   "execution_count": 102,
   "id": "0679bd11-adec-4c92-b650-920a37d27c41",
   "metadata": {},
   "outputs": [
    {
     "name": "stdout",
     "output_type": "stream",
     "text": [
      "r2_score : 0.804324459396025\n",
      "MAE : 0.7568830399718678\n"
     ]
    }
   ],
   "source": [
    "preprocessor = ColumnTransformer(\n",
    "    transformers=[\n",
    "        ('onehot', OneHotEncoder(sparse_output=False, handle_unknown='ignore'),[0,1,10,13,14]),\n",
    "        ('scaler', StandardScaler(), X.select_dtypes(include=['int64', 'float64']).columns)  # Apply scaling to numeric columns\n",
    "    ],\n",
    "    remainder='passthrough'\n",
    ")\n",
    "\n",
    "\n",
    "pipe = Pipeline(steps=[\n",
    "    ('preprocessor', preprocessor),\n",
    "    ('model', LinearRegression())\n",
    "])\n",
    "\n",
    "\n",
    "\n",
    "pipe.fit(x_train, y_train)\n",
    "\n",
    "y_pred = pipe.predict(x_test)\n",
    "\n",
    "print('r2_score :', r2_score(y_test, y_pred))\n",
    "print('MAE :', mean_absolute_error(y_test, y_pred))\n"
   ]
  },
  {
   "cell_type": "markdown",
   "id": "d4c7486e-b212-4245-9cf9-5e3f35b4088b",
   "metadata": {},
   "source": [
    "## Lasso Regression:"
   ]
  },
  {
   "cell_type": "code",
   "execution_count": 103,
   "id": "5618ce66-d026-4759-9631-57a3cc349252",
   "metadata": {},
   "outputs": [
    {
     "name": "stdout",
     "output_type": "stream",
     "text": [
      "r2_score : 0.7998539812947839\n",
      "MAE : 0.7646376747720046\n"
     ]
    }
   ],
   "source": [
    "preprocessor = ColumnTransformer(\n",
    "    transformers=[\n",
    "        ('onehot', OneHotEncoder(sparse_output=False, handle_unknown='ignore'),[0,1,10,13,14]),\n",
    "        ('scaler', StandardScaler(), X.select_dtypes(include=['int64', 'float64']).columns)  # Apply scaling to numeric columns\n",
    "    ],\n",
    "    remainder='passthrough'\n",
    ")\n",
    "\n",
    "\n",
    "pipe = Pipeline(steps=[\n",
    "    ('preprocessor', preprocessor),\n",
    "    ('model', Lasso(alpha=0.001))\n",
    "])\n",
    "\n",
    "\n",
    "\n",
    "pipe.fit(x_train, y_train)\n",
    "\n",
    "y_pred = pipe.predict(x_test)\n",
    "\n",
    "print('r2_score :', r2_score(y_test, y_pred))\n",
    "print('MAE :', mean_absolute_error(y_test, y_pred))\n"
   ]
  },
  {
   "cell_type": "markdown",
   "id": "d108db7b-f212-43ab-b3ff-de5d860725b1",
   "metadata": {},
   "source": [
    "## Decision Tree :"
   ]
  },
  {
   "cell_type": "code",
   "execution_count": 104,
   "id": "c9e26c23-26d3-4337-b7ff-71e3d4d1a33e",
   "metadata": {},
   "outputs": [
    {
     "name": "stdout",
     "output_type": "stream",
     "text": [
      "r2_score : 0.7957274721626955\n",
      "MAE : 0.7378913219080925\n"
     ]
    }
   ],
   "source": [
    "preprocessor = ColumnTransformer(\n",
    "    transformers=[\n",
    "        ('onehot', OneHotEncoder(sparse_output=False, handle_unknown='ignore'),[0,1,10,13,14]),\n",
    "        ('scaler', StandardScaler(), X.select_dtypes(include=['int64', 'float64']).columns)  # Apply scaling to numeric columns\n",
    "    ],\n",
    "    remainder='passthrough'\n",
    ")\n",
    "\n",
    "\n",
    "pipe = Pipeline(steps=[\n",
    "    ('preprocessor', preprocessor),\n",
    "    ('model', DecisionTreeRegressor(max_depth=8))\n",
    "])\n",
    "\n",
    "\n",
    "\n",
    "pipe.fit(x_train, y_train)\n",
    "\n",
    "y_pred = pipe.predict(x_test)\n",
    "\n",
    "print('r2_score :', r2_score(y_test, y_pred))\n",
    "print('MAE :', mean_absolute_error(y_test, y_pred))\n",
    "\n"
   ]
  },
  {
   "cell_type": "markdown",
   "id": "8ff8168f-1582-456f-84dd-68dd1c2115ce",
   "metadata": {},
   "source": [
    "## Random Forest :"
   ]
  },
  {
   "cell_type": "code",
   "execution_count": 105,
   "id": "afbf420d-4406-4fa6-8398-a178c91e00a6",
   "metadata": {},
   "outputs": [
    {
     "name": "stdout",
     "output_type": "stream",
     "text": [
      "r2_score : 0.8761310487164824\n",
      "MAE : 0.588418676483886\n"
     ]
    }
   ],
   "source": [
    "preprocessor = ColumnTransformer(\n",
    "    transformers=[\n",
    "        ('onehot', OneHotEncoder(sparse_output=False, handle_unknown='ignore'),[0,1,10,13,14]),\n",
    "        ('scaler', StandardScaler(), X.select_dtypes(include=['int64', 'float64']).columns)  # Apply scaling to numeric columns\n",
    "    ],\n",
    "    remainder='passthrough'\n",
    ")\n",
    "\n",
    "\n",
    "pipe = Pipeline(steps=[\n",
    "    ('preprocessor', preprocessor),\n",
    "    ('model',RandomForestRegressor(n_estimators=50,\n",
    "                         max_depth=14,\n",
    "                         random_state=3        \n",
    "                        ))\n",
    "])\n",
    "\n",
    "\n",
    "\n",
    "pipe.fit(x_train, y_train)\n",
    "\n",
    "y_pred = pipe.predict(x_test)\n",
    "\n",
    "print('r2_score :', r2_score(y_test, y_pred))\n",
    "print('MAE :', mean_absolute_error(y_test, y_pred))\n",
    "\n"
   ]
  },
  {
   "cell_type": "markdown",
   "id": "0ff627be-64a3-4678-b329-5d00a1060c66",
   "metadata": {},
   "source": [
    "## SVM Regression:"
   ]
  },
  {
   "cell_type": "code",
   "execution_count": 106,
   "id": "a704f15a-0a92-4193-9027-309d1fef16f3",
   "metadata": {},
   "outputs": [
    {
     "name": "stdout",
     "output_type": "stream",
     "text": [
      "r2_score : 0.8161942513053666\n",
      "MAE : 0.7344934783309204\n"
     ]
    }
   ],
   "source": [
    "preprocessor = ColumnTransformer(\n",
    "    transformers=[\n",
    "        ('onehot', OneHotEncoder(sparse_output=False, handle_unknown='ignore'),[0,1,10,13,14]),\n",
    "        ('scaler', StandardScaler(), X.select_dtypes(include=['int64', 'float64']).columns)  # Apply scaling to numeric columns\n",
    "    ],\n",
    "    remainder='passthrough'\n",
    ")\n",
    "\n",
    "\n",
    "pipe = Pipeline(steps=[\n",
    "    ('preprocessor', preprocessor),\n",
    "    ('model',SVR())\n",
    "])\n",
    "\n",
    "\n",
    "\n",
    "pipe.fit(x_train, y_train)\n",
    "\n",
    "y_pred = pipe.predict(x_test)\n",
    "\n",
    "print('r2_score :', r2_score(y_test, y_pred))\n",
    "print('MAE :', mean_absolute_error(y_test, y_pred))\n",
    "\n"
   ]
  },
  {
   "cell_type": "markdown",
   "id": "1dd00fde-6707-4979-85c8-6bc5a85ce044",
   "metadata": {},
   "source": [
    "## XGBoost:"
   ]
  },
  {
   "cell_type": "code",
   "execution_count": 107,
   "id": "62ffca85-63c8-48ac-b1cd-308b70ea42ea",
   "metadata": {},
   "outputs": [
    {
     "name": "stdout",
     "output_type": "stream",
     "text": [
      "r2_score : 0.8927437882954302\n",
      "MAE : 0.5463553939291461\n"
     ]
    }
   ],
   "source": [
    "preprocessor = ColumnTransformer(\n",
    "    transformers=[\n",
    "        ('onehot', OneHotEncoder(sparse_output=False, handle_unknown='ignore'),[0,1,10,13,14]),\n",
    "        ('scaler', StandardScaler(), X.select_dtypes(include=['int64', 'float64']).columns)  # Apply scaling to numeric columns\n",
    "    ],\n",
    "    remainder='passthrough'\n",
    ")\n",
    "\n",
    "\n",
    "pipe = Pipeline(steps=[\n",
    "    ('preprocessor', preprocessor),\n",
    "    ('model',XGBRegressor(n_estimators=200,\n",
    "                   max_depth=7,\n",
    "                   learning_rate=0.05))\n",
    "])\n",
    "\n",
    "\n",
    "\n",
    "pipe.fit(x_train, y_train)\n",
    "\n",
    "y_pred = pipe.predict(x_test)\n",
    "\n",
    "print('r2_score :', r2_score(y_test, y_pred))\n",
    "print('MAE :', mean_absolute_error(y_test, y_pred))\n",
    "\n"
   ]
  },
  {
   "cell_type": "markdown",
   "id": "4bdc1e04-e1d5-468b-a044-c238515db7a8",
   "metadata": {},
   "source": [
    "## Exporting the model :"
   ]
  },
  {
   "cell_type": "code",
   "execution_count": 108,
   "id": "ca2379f7-9b1a-4be7-bf9c-1c8f496c6724",
   "metadata": {},
   "outputs": [],
   "source": [
    "import pickle"
   ]
  },
  {
   "cell_type": "code",
   "execution_count": 109,
   "id": "10811cba-3f6d-45ea-adf3-8aed9addd085",
   "metadata": {},
   "outputs": [],
   "source": [
    "pickle.dump(df,open('df.pkl','wb'))\n",
    "pickle.dump(pipe,open('pipe.pkl','wb'))\n"
   ]
  },
  {
   "cell_type": "code",
   "execution_count": 135,
   "id": "11f5c963-b20a-474a-a72f-caed5f898d9f",
   "metadata": {},
   "outputs": [
    {
     "data": {
      "text/plain": [
       "38093.14313045147"
      ]
     },
     "execution_count": 135,
     "metadata": {},
     "output_type": "execute_result"
    }
   ],
   "source": [
    "np.exp(np.log(best_lambda * 21 + 1) / best_lambda)"
   ]
  },
  {
   "cell_type": "code",
   "execution_count": 136,
   "id": "c4b5ea4b-2472-4cfa-922b-070c5a23c888",
   "metadata": {},
   "outputs": [
    {
     "data": {
      "text/plain": [
       "0.11840251956086785"
      ]
     },
     "execution_count": 136,
     "metadata": {},
     "output_type": "execute_result"
    }
   ],
   "source": [
    "best_lambda"
   ]
  },
  {
   "cell_type": "code",
   "execution_count": null,
   "id": "2843a247-a659-482d-92de-7cb1eea8d306",
   "metadata": {},
   "outputs": [],
   "source": []
  }
 ],
 "metadata": {
  "kernelspec": {
   "display_name": "Python 3 (ipykernel)",
   "language": "python",
   "name": "python3"
  },
  "language_info": {
   "codemirror_mode": {
    "name": "ipython",
    "version": 3
   },
   "file_extension": ".py",
   "mimetype": "text/x-python",
   "name": "python",
   "nbconvert_exporter": "python",
   "pygments_lexer": "ipython3",
   "version": "3.11.7"
  },
  "widgets": {
   "application/vnd.jupyter.widget-state+json": {
    "state": {},
    "version_major": 2,
    "version_minor": 0
   }
  }
 },
 "nbformat": 4,
 "nbformat_minor": 5
}
